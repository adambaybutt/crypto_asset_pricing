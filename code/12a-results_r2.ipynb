{
 "cells": [
  {
   "cell_type": "code",
   "execution_count": null,
   "id": "5f1ce0ad",
   "metadata": {},
   "outputs": [],
   "source": [
    "# TODO UPDATE THIS OLD MESSY CODE WITH NEW PANEL"
   ]
  },
  {
   "cell_type": "code",
   "execution_count": 35,
   "id": "08563888",
   "metadata": {},
   "outputs": [],
   "source": [
    "# Import packages\n",
    "import pandas as pd\n",
    "import pickle\n",
    "import numpy as np\n",
    "from openpyxl import load_workbook"
   ]
  },
  {
   "cell_type": "code",
   "execution_count": 36,
   "id": "3e6cb022",
   "metadata": {},
   "outputs": [],
   "source": [
    "# Import FF and CA yhats\n",
    "pik_ff = '../3-data/clean/ff-rankings-returns.pkl' \n",
    "with open(pik_ff, \"rb\") as f:\n",
    "    ff_data_in = pickle.load(f)\n",
    "    \n",
    "ff_yhats_df, ff_test_df, ff_return_df = ff_data_in\n",
    "\n",
    "pik_ca = '../3-data/clean/autoencoders-yhats-returns.pkl' \n",
    "with open(pik_ca, \"rb\") as f:\n",
    "    ca_data_in = pickle.load(f)\n",
    "    \n",
    "opt_hps_list, test_dfs_list, returns_dfs_list = ca_data_in"
   ]
  },
  {
   "cell_type": "code",
   "execution_count": 37,
   "id": "b5d698bb",
   "metadata": {},
   "outputs": [],
   "source": [
    "# Function to calculate predictive R^2\n",
    "def calcR2(y, yhat):\n",
    "    r2 = 1 - np.mean(np.square(y - yhat))/np.mean(np.square(y))\n",
    "    return r2"
   ]
  },
  {
   "cell_type": "code",
   "execution_count": 38,
   "id": "0de1520b",
   "metadata": {},
   "outputs": [],
   "source": [
    "# Generate R^2 for each conditional autoencoder model\n",
    "ca_r2_df = pd.DataFrame({'num_hidden_layer': np.array([1, 1, 1, 2, 2, 2, 3, 3, 3]),\n",
    "                              'num_fac': np.array([1, 2, 3, 1, 2, 3, 1, 2, 3]),\n",
    "                              'r2': np.zeros(9)})\n",
    "\n",
    "for i in range(len(opt_hps_list)):\n",
    "    opt_hps = opt_hps_list[i]\n",
    "    test_df = test_dfs_list[i]\n",
    "    \n",
    "    number_factor = opt_hps['number_factor']\n",
    "    number_hidden_layer = opt_hps['number_hidden_layer']\n",
    "    \n",
    "    ca_r2_df.loc[(ca_r2_df.num_fac == number_factor) &\n",
    "                 (ca_r2_df.num_hidden_layer == number_hidden_layer), 'r2'] = calcR2(test_df.r_t.values, \n",
    "                                                                                    test_df.y_hat_t.values)"
   ]
  },
  {
   "cell_type": "code",
   "execution_count": 39,
   "id": "a6ef7495",
   "metadata": {},
   "outputs": [],
   "source": [
    "# Generate R^2 for each FF model\n",
    "ff_r2_numfac1 = calcR2(ff_yhats_df[\"r_t\"].values, ff_yhats_df[\"yhats_1_factor\"].values)\n",
    "ff_r2_numfac2 = calcR2(ff_yhats_df[\"r_t\"].values, ff_yhats_df[\"yhats_2_factor\"].values)\n",
    "ff_r2_df = pd.DataFrame({\"Factors\": [1, 2], \"R2\": [ff_r2_numfac1, ff_r2_numfac2]})"
   ]
  },
  {
   "cell_type": "code",
   "execution_count": 40,
   "id": "56ba2f2e",
   "metadata": {},
   "outputs": [],
   "source": [
    "# Output to Excel without overwriting the file\n",
    "book          = load_workbook('../4-output/r2.xlsx')\n",
    "writer        = pd.ExcelWriter('../4-output/r2.xlsx', engine='openpyxl') \n",
    "writer.book   = book\n",
    "writer.sheets = dict((ws.title, ws) for ws in book.worksheets)\n",
    "ff_r2_df.to_excel(writer, sheet_name=\"ff\")\n",
    "ca_r2_df.to_excel(writer, sheet_name=\"autoencoder\")\n",
    "writer.save()"
   ]
  },
  {
   "cell_type": "code",
   "execution_count": null,
   "id": "27f5acb3",
   "metadata": {},
   "outputs": [],
   "source": []
  }
 ],
 "metadata": {
  "kernelspec": {
   "display_name": "Python 3",
   "language": "python",
   "name": "python3"
  },
  "language_info": {
   "codemirror_mode": {
    "name": "ipython",
    "version": 3
   },
   "file_extension": ".py",
   "mimetype": "text/x-python",
   "name": "python",
   "nbconvert_exporter": "python",
   "pygments_lexer": "ipython3",
   "version": "3.8.8"
  }
 },
 "nbformat": 4,
 "nbformat_minor": 5
}
