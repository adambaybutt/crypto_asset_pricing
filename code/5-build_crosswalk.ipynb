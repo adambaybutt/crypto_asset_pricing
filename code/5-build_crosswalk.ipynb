{
 "cells": [
  {
   "cell_type": "code",
   "execution_count": null,
   "id": "62630846",
   "metadata": {},
   "outputs": [],
   "source": [
    "# TODO UPDATE THIS OLD MESSY SCRIPT"
   ]
  },
  {
   "cell_type": "code",
   "execution_count": 15,
   "id": "f28a5792",
   "metadata": {},
   "outputs": [],
   "source": [
    "# IMPORT PACKAGES\n",
    "import pandas as pd"
   ]
  },
  {
   "cell_type": "code",
   "execution_count": 16,
   "id": "762d534b",
   "metadata": {},
   "outputs": [],
   "source": [
    "# READ IN THE DATA\n",
    "\n",
    "cmc_df       = pd.read_pickle('../3-data/derived/cmc_cw.pkl')\n",
    "coinapi_df   = pd.read_pickle('../3-data/derived/coinapi_cw.pkl')\n",
    "coingecko_df = pd.read_pickle('../3-data/derived/coingecko_cw.pkl')\n",
    "cm_df        = pd.read_pickle('../3-data/derived/coinmetrics_cw.pkl')\n",
    "messari_df   = pd.read_pickle('../3-data/derived/messari_cw.pkl')\n",
    "san_df       = pd.read_pickle('../3-data/derived/santiment_cw.pkl')\n"
   ]
  },
  {
   "cell_type": "code",
   "execution_count": 17,
   "id": "28be5da8",
   "metadata": {},
   "outputs": [],
   "source": [
    "# MERGE DATA TOGETHER\n",
    "\n",
    "df = cmc_df.merge(coinapi_df,\n",
    "                  on='cmc_id',\n",
    "                  how='outer',\n",
    "                  validate='one_to_one')\n",
    "assert(0==df[df.symbol_cmc.isnull()].shape[0]) # note: ensure no cmc_id's in non cmc df that aren't in cmc df\n",
    "\n",
    "for merging_df in [coingecko_df, cm_df, messari_df, san_df]:\n",
    "    df = df.merge(merging_df,\n",
    "                  on='cmc_id',\n",
    "                  how='outer',\n",
    "                  validate='one_to_one')\n",
    "    assert(0==df[df.symbol_cmc.isnull()].shape[0]) # note: ensure no cmc_id's in non cmc df that aren't in cmc df\n"
   ]
  },
  {
   "cell_type": "code",
   "execution_count": 18,
   "id": "1a923675",
   "metadata": {},
   "outputs": [],
   "source": [
    "# Drop column that is also in the santiment panel\n",
    "df = df.drop('total_supply_san', axis=1)\n"
   ]
  },
  {
   "cell_type": "code",
   "execution_count": 19,
   "id": "5b751b42",
   "metadata": {},
   "outputs": [],
   "source": [
    "# CONFIRM ALL ID COLUMNS ARE UNIQUE\n",
    "\n",
    "assert(df[~df.cmc_id.isnull()].cmc_id.is_unique)\n",
    "assert(df[~df.coinapi_id.isnull()].coinapi_id.is_unique)\n",
    "assert(df[~df.gecko_id.isnull()].gecko_id.is_unique)\n",
    "assert(df[~df.cm_id.isnull()].cm_id.is_unique)\n",
    "assert(df[~df.messari_id.isnull()].messari_id.is_unique)\n",
    "assert(df[~df.san_id.isnull()].san_id.is_unique)\n"
   ]
  },
  {
   "cell_type": "code",
   "execution_count": 20,
   "id": "4523edb2",
   "metadata": {},
   "outputs": [],
   "source": [
    "# SORT \n",
    "\n",
    "# Reorder cols\n",
    "cols = list(df.columns.values)\n",
    "id_cols = ['cmc_id', 'coinapi_id', 'gecko_id',\n",
    "           'cm_id', 'messari_id', 'san_id']\n",
    "for col in id_cols:\n",
    "    cols.remove(col)\n",
    "df = df[id_cols + cols]\n",
    "\n",
    "# Sort rows\n",
    "df = df.sort_values(by=['cmc_id'], ignore_index=True)\n"
   ]
  },
  {
   "cell_type": "code",
   "execution_count": 21,
   "id": "238dc569",
   "metadata": {},
   "outputs": [],
   "source": [
    "# OUTPUT\n",
    "df.to_pickle('../3-data/clean/cw.pkl')\n"
   ]
  },
  {
   "cell_type": "code",
   "execution_count": null,
   "id": "53132476",
   "metadata": {},
   "outputs": [],
   "source": []
  }
 ],
 "metadata": {
  "kernelspec": {
   "display_name": "Python 3 (ipykernel)",
   "language": "python",
   "name": "python3"
  },
  "language_info": {
   "codemirror_mode": {
    "name": "ipython",
    "version": 3
   },
   "file_extension": ".py",
   "mimetype": "text/x-python",
   "name": "python",
   "nbconvert_exporter": "python",
   "pygments_lexer": "ipython3",
   "version": "3.9.12"
  }
 },
 "nbformat": 4,
 "nbformat_minor": 5
}
