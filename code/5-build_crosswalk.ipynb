{
 "cells": [
  {
   "cell_type": "code",
   "execution_count": 22,
   "id": "ea1d2b63",
   "metadata": {},
   "outputs": [],
   "source": [
    "import pandas as pd\n",
    "import numpy as np\n",
    "import pickle\n",
    "from helper_functions import Helper"
   ]
  },
  {
   "cell_type": "code",
   "execution_count": 23,
   "id": "d0e8a591",
   "metadata": {},
   "outputs": [],
   "source": [
    "if __name__ == \"__main__\":\n",
    "    # args\n",
    "    ASSET_IN_FP = '../data/clean/asset_universe_dict.pickle'\n",
    "    CA_IN_FP  = '../data/derived/ca_cm_cw.pkl'\n",
    "    CG_IN_FP  = '../data/derived/cg_cm_cw.pkl'\n",
    "    CMC_IN_FP = '../data/derived/cmc_cm_cw.pkl'\n",
    "    SAN_IN_FP =  '../data/derived/san_cm_cw.pkl'\n",
    "    OUT_FP = '../data/clean/cw.pkl'\n",
    "\n",
    "    # import\n",
    "    with open(ASSET_IN_FP, \"rb\") as f:\n",
    "        asset_universe_dict = pickle.load(f)\n",
    "    asset_universe = Helper.findUniqueAssets(asset_universe_dict)\n",
    "    ca_cw_df = pd.read_pickle(CA_IN_FP)\n",
    "    cg_cw_df = pd.read_pickle(CG_IN_FP)\n",
    "    cmc_cw_df = pd.read_pickle(CMC_IN_FP)\n",
    "    san_cw_df = pd.read_pickle(SAN_IN_FP)\n",
    "\n",
    "    # fix error in cws\n",
    "    san_cw_df.loc[san_cw_df.asset_cm.isin(['gmt', 'cro']), 'asset_san'] = np.nan\n",
    "    cg_cw_df.loc[cg_cw_df.asset_cm.isin(['aca', 'cro', 'ava']), 'asset_cg'] = np.nan\n",
    "    cg_cw_df = cg_cw_df[~cg_cw_df.asset_cg.isin(['atlas-aggregator', 'chronos-finance', 'sincronix'])]\n",
    "    cmc_cw_df.loc[cmc_cw_df.asset_cm=='gmt', 'asset_cmc'] = np.nan\n",
    "    cmc_cw_df = cmc_cw_df[~cmc_cw_df.asset_cmc.isin(['atlas-aggregator', 'chronos-arbitrum', 'kryptai', \n",
    "                                                    'kinance', 'nanomatic', 'neo-', 'sincronix'])]\n",
    "\n",
    "    # subset assets to relevant universe\n",
    "    \n",
    "\n",
    "    # merge \n",
    "    ca_cw_df = ca_cw_df[ca_cw_df.asset_cm.isin(asset_universe)]\n",
    "    cw_df = ca_cw_df.merge(san_cw_df, on='asset_cm', how='inner', validate='one_to_one')\n",
    "    cw_df = cw_df.merge(cg_cw_df, on='asset_cm', how='inner', validate='one_to_one')\n",
    "    cw_df = cw_df.merge(cmc_cw_df, on='asset_cm', how='inner', validate='one_to_one')\n",
    "\n",
    "    # sort rows and columns\n",
    "    cw_df = cw_df[['asset_cm', 'asset_ca', 'asset_san', 'asset_cmc', 'asset_cg']]\n",
    "    cw_df = cw_df.sort_values(by='asset_cm', ignore_index=True)\n",
    "\n",
    "    # drop 'ampl' from asset universe, a stablecoin\n",
    "    cw_df = cw_df[cw_df.asset_cm!='ampl']\n",
    "\n",
    "    # output\n",
    "    cw_df.to_pickle(OUT_FP)"
   ]
  }
 ],
 "metadata": {
  "kernelspec": {
   "display_name": "Python 3 (ipykernel)",
   "language": "python",
   "name": "python3"
  },
  "language_info": {
   "codemirror_mode": {
    "name": "ipython",
    "version": 3
   },
   "file_extension": ".py",
   "mimetype": "text/x-python",
   "name": "python",
   "nbconvert_exporter": "python",
   "pygments_lexer": "ipython3",
   "version": "3.10.9"
  }
 },
 "nbformat": 4,
 "nbformat_minor": 5
}
