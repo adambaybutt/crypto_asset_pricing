{
 "cells": [
  {
   "cell_type": "code",
   "execution_count": 1,
   "id": "59ed7478",
   "metadata": {},
   "outputs": [],
   "source": [
    "# To be able to use the quantools, due to my crap path names have to add to sys path.\n",
    "import sys\n",
    "sys.path.insert(0, '/home/adam/Dropbox/2-creations/2-crafts/7-buidl/0-utils/quant_tools/code')\n",
    "\n",
    "# Import.\n",
    "import matplotlib.pyplot as plt\n",
    "from tools import QuantTools\n",
    "import pandas as pd\n",
    "import numpy as np\n",
    "import gc\n"
   ]
  },
  {
   "cell_type": "code",
   "execution_count": 2,
   "id": "58d46269",
   "metadata": {},
   "outputs": [],
   "source": [
    "def reportBenchmarkStatistics(\n",
    "    df: pd.DataFrame, lhs_col: str, cmkt_col: str, periods_in_year: int\n",
    "    ) -> pd.DataFrame:\n",
    "    # Create benchmark returns\n",
    "    btc_df = df[df.asset=='btc'].drop_duplicates().copy()\n",
    "    eth_df = df[df.asset=='eth'].drop_duplicates().copy()\n",
    "    btc_returns = btc_df[lhs_col].values\n",
    "    eth_returns = eth_df[lhs_col].values\n",
    "    cmkt_df = df[['date', cmkt_col]].drop_duplicates().copy()\n",
    "    cmkt_returns = cmkt_df[cmkt_col].values\n",
    "    \n",
    "    # Report the period we are studying\n",
    "    print('Benchmark results are for this period:')\n",
    "    print(f'Start: {np.min(df.date.values)}')\n",
    "    print(f'End: {np.max(df.date.values)}')\n",
    "    print('\\n')\n",
    "\n",
    "    # Output statistics on returns\n",
    "    port_name = ['btc', 'eth', 'cmkt']\n",
    "    returns_list = [btc_returns, eth_returns, cmkt_returns]\n",
    "    for portfolio, returns in zip(port_name, returns_list):\n",
    "        print(f'For the portfolio {portfolio}:')\n",
    "        print(f'Geom mean annual return: {np.round(QuantTools.calcGeomAvg(returns, annualized=True, periods_in_year=periods_in_year), 4)}')\n",
    "        print(f'Sharpe: {np.round(QuantTools.calcSharpe(returns, periods_in_year=periods_in_year), 2)}')\n",
    "        print(f'TS mean annual return: {np.round(QuantTools.calcTSAvgReturn(returns, annualized=True, periods_in_year=periods_in_year), 4)}')\n",
    "        print('\\n')\n",
    "    \n",
    "    # Form benchmark return dataframe to return\n",
    "    b_df = pd.DataFrame(data={'date': cmkt_df.date.values})\n",
    "    b_df['BTC'] = btc_returns\n",
    "    b_df['ETH'] = eth_returns\n",
    "    b_df['CMKT'] = cmkt_returns\n",
    "    return b_df\n"
   ]
  },
  {
   "cell_type": "code",
   "execution_count": 3,
   "id": "024e56d4",
   "metadata": {},
   "outputs": [],
   "source": [
    "def outputReturnsByQuantileFig(df: pd.DataFrame, lhs_col: str, out_fp: str) -> None:\n",
    "    # Form quantile returns\n",
    "    pos_df = QuantTools.formPortfolioWeightsByQuantile(\n",
    "        df, 100, False, 'yhats_transformer'\n",
    "    )\n",
    "    qntl_rtrns_df = pos_df.groupby('qntl')[[lhs_col]].mean().reset_index()\n",
    "\n",
    "    # Create and format plot\n",
    "    plt.plot(qntl_rtrns_df['qntl'], qntl_rtrns_df[lhs_col], color='#482677FF')\n",
    "    plt.gca().set_frame_on(False)\n",
    "    plt.grid(axis='y', linestyle='--')\n",
    "    plt.gca().xaxis.set_visible(False)\n",
    "    plt.gca().yaxis.set_tick_params(color='grey')\n",
    "    plt.gca().yaxis.label.set_color('grey')\n",
    "\n",
    "    # Save plot\n",
    "    plt.savefig(out_fp)\n",
    "    plt.close()\n"
   ]
  },
  {
   "cell_type": "code",
   "execution_count": 4,
   "id": "e5d6749d",
   "metadata": {},
   "outputs": [
    {
     "name": "stdout",
     "output_type": "stream",
     "text": [
      "Benchmark results are for this period:\n",
      "Start: 2021-05-02T00:00:00.000000000\n",
      "End: 2021-06-26T23:00:00.000000000\n",
      "\n",
      "\n",
      "For the portfolio btc:\n",
      "Geom mean annual return: -0.9771\n",
      "Sharpe: -1.2\n",
      "TS mean annual return: -1.0\n",
      "\n",
      "\n",
      "For the portfolio eth:\n",
      "Geom mean annual return: -0.9543\n",
      "Sharpe: -0.86\n",
      "TS mean annual return: -1.0\n",
      "\n",
      "\n",
      "For the portfolio cmkt:\n",
      "Geom mean annual return: -0.9654\n",
      "Sharpe: -0.94\n",
      "TS mean annual return: -1.0\n",
      "\n",
      "\n"
     ]
    }
   ],
   "source": [
    "if __name__ == \"__main__\":\n",
    "    # Set args.\n",
    "    IN_FP_TEST_PNL   = '../data/clean/panel_train.pkl'\n",
    "    IN_FP_AUTO       = '../data/clean/test_yhats_autoencoder.pkl'\n",
    "    IN_FP_TRNSFRMR   = '../data/clean/test_yhats_transformer_20210502_20210701.pkl'\n",
    "    OUT_FP           = '../output/high_dim_fm/high_dim_fms.xlsx'\n",
    "    OUT_FP_TRNS_QNTL = '../output/high_dim_fm/ts_avg_return_by_quantile_transformer.png'\n",
    "    LHS_COL          = 'r_ex_tp1'\n",
    "    CMKT_COL         = 'macro_cmkt_tp1'\n",
    "    PERIODS_IN_YEAR  = int(365.25*24)\n",
    "    NUM_QNTLS_PRTLS  = 5\n",
    "    TC_PER_HOUR      = 7e-4\n",
    "\n",
    "    # Import data.\n",
    "    test_df = pd.read_pickle(IN_FP_TEST_PNL)\n",
    "    a_df    = pd.read_pickle(IN_FP_AUTO)\n",
    "    t_df    = pd.read_pickle(IN_FP_TRNSFRMR)\n",
    "\n",
    "    # Form single panel.\n",
    "    t_df = t_df.rename(columns={'yhats': 'yhats_transformer'})\n",
    "    df = t_df.copy() # TODO replace with merge of a_df and t_df\n",
    "    mcap_df = test_df[['date', 'asset', 'char_size_t']].copy()\n",
    "    mcap_df = mcap_df.rename(columns={'char_size_t': 'mcap'})\n",
    "    cmkt_df = test_df[['date', 'macro_cmkt_tm1h']].drop_duplicates().copy()\n",
    "    cmkt_df[CMKT_COL] = cmkt_df.macro_cmkt_tm1h.shift(-1)\n",
    "    cmkt_df = cmkt_df.drop('macro_cmkt_tm1h', axis=1)\n",
    "    df = df.merge(mcap_df, on=['date', 'asset'], how='inner', validate='one_to_one')\n",
    "    df = df.merge(cmkt_df, on=['date'], how='inner', validate='many_to_one')\n",
    "        \n",
    "    # Clear memory\n",
    "    del test_df, a_df, t_df\n",
    "    del mcap_df, cmkt_df\n",
    "    gc.collect()\n",
    "\n",
    "    # Report results\n",
    "    b_df = reportBenchmarkStatistics(df, LHS_COL, CMKT_COL, PERIODS_IN_YEAR)\n",
    "\n",
    "    # Generate portfolio statistics\n",
    "    results_df = QuantTools.calcPortfolioStatistics(\n",
    "        df, LHS_COL, 'yhats_transformer', CMKT_COL, 'transformer', \n",
    "        NUM_QNTLS_PRTLS, PERIODS_IN_YEAR, False, TC_PER_HOUR\n",
    "    )\n",
    "    with pd.ExcelWriter(OUT_FP, engine='openpyxl', mode='a', if_sheet_exists='replace') as writer: \n",
    "        results_df.to_excel(writer, sheet_name='raw_oos_port_stats_equal')\n",
    "    results_df = QuantTools.calcPortfolioStatistics(\n",
    "        df, LHS_COL, 'yhats_transformer', CMKT_COL, 'transformer', \n",
    "        NUM_QNTLS_PRTLS, PERIODS_IN_YEAR, True, TC_PER_HOUR\n",
    "    )\n",
    "    with pd.ExcelWriter(OUT_FP, engine='openpyxl', mode='a', if_sheet_exists='replace') as writer: \n",
    "        results_df.to_excel(writer, sheet_name='raw_oos_port_stats_mcap')\n",
    "\n",
    "    # Generate ts avg of returns by quantile\n",
    "    outputReturnsByQuantileFig(df, LHS_COL, OUT_FP_TRNS_QNTL)\n"
   ]
  },
  {
   "cell_type": "code",
   "execution_count": 5,
   "id": "595c11d4",
   "metadata": {},
   "outputs": [],
   "source": [
    "# TODO update quantile plot to optionally do mcap as right now it is equal weighted."
   ]
  },
  {
   "cell_type": "code",
   "execution_count": 6,
   "id": "953044d9",
   "metadata": {},
   "outputs": [],
   "source": [
    "# TODO figure out the TC to take out of autoencoder; have it in its notebook; just confirm it is the same\n",
    "# TODO figure out TC to take out of the market; \n",
    "#           i.e. calc turnover and what not following logic in transformer / autoencoder notebooks."
   ]
  },
  {
   "cell_type": "code",
   "execution_count": 7,
   "id": "6404a3cc",
   "metadata": {},
   "outputs": [],
   "source": [
    "# TODO ADD AUTOENCODER RESULTS TO PORT STATS ONCE I GET SOME TRANSFORMER RESULTS INTO 2H 2021\n",
    "# -func to gen both, append, and output"
   ]
  },
  {
   "cell_type": "code",
   "execution_count": 8,
   "id": "4ccc2fd6",
   "metadata": {},
   "outputs": [],
   "source": [
    "# TODO do the cumulative return figure showing: btc, eth, cmkt, autoencoder, transformer\n",
    "# -calc strat returns to merge with b_df, taking TC's out of both\n",
    "# -form all cum return\n",
    "# -plot\n",
    "# -clean up plot to make it sexy\n"
   ]
  }
 ],
 "metadata": {
  "kernelspec": {
   "display_name": "tf",
   "language": "python",
   "name": "python3"
  },
  "language_info": {
   "codemirror_mode": {
    "name": "ipython",
    "version": 3
   },
   "file_extension": ".py",
   "mimetype": "text/x-python",
   "name": "python",
   "nbconvert_exporter": "python",
   "pygments_lexer": "ipython3",
   "version": "3.10.9"
  },
  "vscode": {
   "interpreter": {
    "hash": "f14a76dcff07d5b93f2c0fc65ce65c8ac7788ddb1ef5c63daa3feefa016fa519"
   }
  }
 },
 "nbformat": 4,
 "nbformat_minor": 5
}
