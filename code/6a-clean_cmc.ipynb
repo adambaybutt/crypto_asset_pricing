{
 "cells": [
  {
   "cell_type": "code",
   "execution_count": null,
   "id": "17a5ed86",
   "metadata": {},
   "outputs": [],
   "source": [
    "# FOR CLEANING SCRIPT:\n",
    "\n",
    "# ensure each asset does not appear before first date nor after last date\n",
    "# cmc_ids = np.unique(panel_df.cmc_id.values)\n",
    "# for cmc_id in cmc_ids:\n",
    "#     print(cmc_id)\n",
    "#     first_date = cw_df[cw_df.cmc_id==cmc_id].first_date_cmc.values[0]\n",
    "#     last_date  = cw_df[cw_df.cmc_id==cmc_id].last_date_cmc.values[0]\n",
    "#     assert(0==panel_df[(panel_df.cmc_id==cmc_id)&(panel_df.date<first_date)].shape[0])\n",
    "#     assert(0==panel_df[(panel_df.cmc_id==cmc_id)&(panel_df.date>last_date)].shape[0])\n",
    "\n",
    "# ensure each asset has consecutive data, interpolate where needed with forward fill\n",
    "\n",
    "# group the data by cmc_id to loop over\n",
    "grouped = panel_df.groupby('cmc_id')\n",
    "\n",
    "# interate through each cmc_id\n",
    "dfs = []\n",
    "for name, group in grouped:\n",
    "    # find the first and last dates for the current id\n",
    "    first_date = group['date'].min()\n",
    "    last_date  = group['date'].max()\n",
    "\n",
    "    # create a new dataframe with all the possible combinations of cmc_id and date\n",
    "    dates = pd.date_range(first_date, last_date)\n",
    "    index = pd.MultiIndex.from_product([[name], dates], names=['cmc_id', 'date'])\n",
    "    full_df = pd.DataFrame(index=index).reset_index()\n",
    "\n",
    "    # merge the full dataframe with the original dataframe to fill in missing values with NaNs\n",
    "    merged_df = pd.merge(full_df, group, on=['cmc_id', 'date'], how='left')\n",
    "\n",
    "    # interpolate the missing values using forward fill for up to 7 consecutive observations\n",
    "    interpolated_df = merged_df.fillna(method='ffill', limit=21)\n",
    "\n",
    "    # Check if there are any missing values in the remaining columns for the current id and date range\n",
    "    if interpolated_df.isnull().values.any():\n",
    "        print(f\"ID {name} has missing values in the given date range, precisely: {int(interpolated_df.isnull().sum().sum()/3)}.\")\n",
    "        break\n",
    "\n",
    "    # combine    \n",
    "    dfs.append(interpolated_df)\n",
    "\n",
    "# Combine all the dataframes and drop the 'cmc_id' index level\n",
    "result_df = pd.concat(dfs).reset_index()\n",
    "\n",
    "\n"
   ]
  }
 ],
 "metadata": {
  "kernelspec": {
   "display_name": "tf",
   "language": "python",
   "name": "python3"
  },
  "language_info": {
   "codemirror_mode": {
    "name": "ipython",
    "version": 3
   },
   "file_extension": ".py",
   "mimetype": "text/x-python",
   "name": "python",
   "nbconvert_exporter": "python",
   "pygments_lexer": "ipython3",
   "version": "3.9.12"
  },
  "vscode": {
   "interpreter": {
    "hash": "e428bc405edc59f3352e9792cab27c5e28560f7efb4b47308a6c6ea38cd15df2"
   }
  }
 },
 "nbformat": 4,
 "nbformat_minor": 5
}
