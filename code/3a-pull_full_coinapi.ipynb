{
 "cells": [
  {
   "cell_type": "code",
   "execution_count": 1,
   "metadata": {},
   "outputs": [],
   "source": [
    "import pandas as pd\n",
    "import pickle\n",
    "from helper_functions import Helper\n",
    "from helper_functions import CoinAPI\n",
    "import requests"
   ]
  },
  {
   "cell_type": "code",
   "execution_count": 33,
   "metadata": {},
   "outputs": [],
   "source": [
    "if __name__ == \"__main__\":\n",
    "    # import api key\n",
    "    API_KEY_FP = '../../admin/coinapi.txt'\n",
    "    with open(API_KEY_FP) as f:\n",
    "        API_KEY = f.readlines()[0].strip()\n",
    "\n",
    "    # Set args\n",
    "    CW_IN_FP = '../data/derived/cm_to_coinapi_cw.pkl'\n",
    "    ASSET_IN_FP = '../data/derived/asset_universe_dict.pickle'\n",
    "    BASE_URL   = 'https://rest.coinapi.io/v1/'\n",
    "    BASE_HEADERS = {'X-CoinAPI-Key': API_KEY}\n",
    "    LEGIT_US_EXCHANGES = ['BINANCEUS', 'BITSTAMP', 'COINBASE', 'CRYPTOCOM', 'FTXUS', \n",
    "        'GEMINI', 'KRAKEN', 'KUCOIN']\n",
    "    TARGET_FREQ = '1HRS'\n",
    "    TIME_START = '2016-07-01'\n",
    "    TIME_END = '2023-01-02'\n",
    "    PANEL_OUT_FP = '../data/raw/coinapi_panel_hourly.pkl'\n",
    "    MACRO_OUT_FP = '../data/raw/coinapi_macro_hourly.pkl'\n",
    "\n",
    "    # confirm api is working\n",
    "    url = 'https://www.coinapi.io/api/subscriptions/usage/rest/history'\n",
    "    print(requests.get(url, headers=BASE_HEADERS).json())    \n",
    "    \n",
    "    # Import asset universe and cw\n",
    "    cw_df = pd.read_pickle(CW_IN_FP)\n",
    "    with open(ASSET_IN_FP, \"rb\") as f:\n",
    "        asset_universe_dict = pickle.load(f)\n",
    "    asset_universe_cm = Helper.findUniqueAssets(asset_universe_dict)\n",
    "    asset_universe = list(cw_df[cw_df.asset_cm.isin(asset_universe_cm)].asset_coinapi.values)\n",
    "\n",
    "    # pull relevant markets\n",
    "    markets_df = CoinAPI.pullMarketInfo(BASE_URL, BASE_HEADERS, LEGIT_US_EXCHANGES, asset_universe)\n",
    "\n",
    "    # pull coinapi aggregated prices\n",
    "    prices_df = CoinAPI.pullExchangeRates(BASE_URL, BASE_HEADERS, ['USDC', 'USDT'] + asset_universe,\n",
    "        TARGET_FREQ, TIME_START, TIME_END)\n",
    "    macro_df, prices_df = CoinAPI.seperateMacroAndAssetRefPrices(prices_df)\n",
    "    macro_df.to_pickle(MACRO_OUT_FP)\n",
    "\n",
    "    # pull coinapi ohlcv\n",
    "    raw_panel_df = CoinAPI.pullMarketData(BASE_URL, BASE_HEADERS,  list(markets_df.symbol_id.values), \n",
    "        TARGET_FREQ, TIME_START, TIME_END)\n",
    "\n",
    "    # clean the panel\n",
    "    panel_df = CoinAPI.cleanPanel(raw_panel_df, prices_df, macro_df, TARGET_FREQ)\n",
    "    panel_df.to_pickle(PANEL_OUT_FP)"
   ]
  }
 ],
 "metadata": {
  "kernelspec": {
   "display_name": "tf",
   "language": "python",
   "name": "python3"
  },
  "language_info": {
   "codemirror_mode": {
    "name": "ipython",
    "version": 3
   },
   "file_extension": ".py",
   "mimetype": "text/x-python",
   "name": "python",
   "nbconvert_exporter": "python",
   "pygments_lexer": "ipython3",
   "version": "3.10.9"
  },
  "orig_nbformat": 4,
  "vscode": {
   "interpreter": {
    "hash": "e428bc405edc59f3352e9792cab27c5e28560f7efb4b47308a6c6ea38cd15df2"
   }
  }
 },
 "nbformat": 4,
 "nbformat_minor": 2
}
