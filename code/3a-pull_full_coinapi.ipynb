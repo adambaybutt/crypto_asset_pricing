{
 "cells": [
  {
   "cell_type": "code",
   "execution_count": 2,
   "metadata": {},
   "outputs": [],
   "source": [
    "import pandas as pd\n",
    "import pickle\n",
    "from helper_functions import Helper\n",
    "from helper_functions import CoinAPI\n",
    "import requests"
   ]
  },
  {
   "cell_type": "code",
   "execution_count": null,
   "metadata": {},
   "outputs": [],
   "source": [
    "# TODO START THE BELOW PULL AT 10 AM ON TUESDAY"
   ]
  },
  {
   "cell_type": "code",
   "execution_count": null,
   "metadata": {},
   "outputs": [],
   "source": [
    "if __name__ == \"__main__\":\n",
    "    # import api key\n",
    "    API_KEY_FP = '../../admin/coinapi.txt'\n",
    "    with open(API_KEY_FP) as f:\n",
    "        API_KEY = f.readlines()[0].strip()\n",
    "\n",
    "    # Set args\n",
    "    CW_IN_FP = '../data/derived/cm_to_coinapi_cw.pkl'\n",
    "    ASSET_IN_FP = '../data/clean/asset_universe_dict.pickle'\n",
    "    BASE_URL   = 'https://rest.coinapi.io/v1/'\n",
    "    BASE_HEADERS = {'X-CoinAPI-Key': API_KEY}\n",
    "    LEGIT_US_EXCHANGES = ['BINANCEUS', 'BITSTAMP', 'COINBASE', 'CRYPTOCOM', 'FTXUS', \n",
    "        'GEMINI', 'KRAKEN', 'KUCOIN']\n",
    "    TARGET_FREQ = '1HRS'\n",
    "    TIME_START = '2016-07-01'\n",
    "    TIME_END = '2023-01-02'\n",
    "    PANEL_OUT_FP = '../data/raw/coinapi_panel_hourly.pkl'\n",
    "\n",
    "    # confirm api is working\n",
    "    url = 'https://www.coinapi.io/api/subscriptions/usage/rest/history'\n",
    "    print(requests.get(url, headers=BASE_HEADERS).json())    \n",
    "    \n",
    "    # Import asset universe and cw\n",
    "    cw_df = pd.read_pickle(CW_IN_FP)\n",
    "    with open(ASSET_IN_FP, \"rb\") as f:\n",
    "        asset_universe_dict = pickle.load(f)\n",
    "    asset_universe_cm = Helper.findUniqueAssets(asset_universe_dict)\n",
    "    asset_universe = list(cw_df[cw_df.asset_cm.isin(asset_universe_cm)].asset_coinapi.values)\n",
    "\n",
    "    # pull relevant markets\n",
    "    markets_df = CoinAPI.pullMarketInfo(BASE_URL, BASE_HEADERS, LEGIT_US_EXCHANGES, asset_universe)\n",
    "\n",
    "    # pull coinapi aggregated prices\n",
    "    prices_df = CoinAPI.pullExchangeRates(BASE_URL, BASE_HEADERS, ['USDC', 'USDT'] + asset_universe,\n",
    "                    TARGET_FREQ, TIME_START, TIME_END)\n",
    "    macro_df, prices_df = CoinAPI.seperateMacroAndAssetRefPrices(prices_df)"
   ]
  },
  {
   "cell_type": "code",
   "execution_count": null,
   "metadata": {},
   "outputs": [],
   "source": [
    "# TODO TEMP SAVE OF MACRO AND PRICES\n",
    "markets_df.to_pickle('temp_markets.pkl')\n",
    "macro_df.to_pickle('temp_macro.pkl')\n",
    "prices_df.to_pickle('temp_macro.pkl')"
   ]
  },
  {
   "cell_type": "code",
   "execution_count": null,
   "metadata": {},
   "outputs": [],
   "source": [
    "# pull market prices and volumes\n",
    "master_markets_list = list(markets_df.symbol_id.values)"
   ]
  },
  {
   "cell_type": "code",
   "execution_count": null,
   "metadata": {},
   "outputs": [],
   "source": [
    "# confirm api is working\n",
    "url = 'https://www.coinapi.io/api/subscriptions/usage/rest/history'\n",
    "print(requests.get(url, headers=BASE_HEADERS).json())    \n"
   ]
  },
  {
   "cell_type": "code",
   "execution_count": null,
   "metadata": {},
   "outputs": [],
   "source": [
    "len(master_markets_list)"
   ]
  },
  {
   "cell_type": "code",
   "execution_count": null,
   "metadata": {},
   "outputs": [],
   "source": [
    "len(master_markets_list)/165"
   ]
  },
  {
   "cell_type": "code",
   "execution_count": null,
   "metadata": {},
   "outputs": [],
   "source": [
    "len(master_markets_list)/6.5"
   ]
  },
  {
   "cell_type": "code",
   "execution_count": null,
   "metadata": {},
   "outputs": [],
   "source": [
    "# TODO RIP ONE MARKET PULL TO SEE HOW MUCH IT COSTS. LIKE 400?"
   ]
  },
  {
   "cell_type": "code",
   "execution_count": null,
   "metadata": {},
   "outputs": [],
   "source": [
    "# TODO DECIDE ON SPACING"
   ]
  },
  {
   "cell_type": "code",
   "execution_count": null,
   "metadata": {},
   "outputs": [],
   "source": [
    "# TODO \n",
    "end = 100\n",
    "markets_list = master_markets_list[:end] # TODO CHANGE TO SOME LIST\n",
    "raw_panel_df = CoinAPI.pullMarketData(BASE_URL, BASE_HEADERS, markets_list, \n",
    "                                TARGET_FREQ, TIME_START, TIME_END)"
   ]
  },
  {
   "cell_type": "code",
   "execution_count": null,
   "metadata": {},
   "outputs": [],
   "source": [
    "master_raw_panel_df = pd.DataFrame()\n",
    "master_raw_panel_df = pd.concat((master_raw_panel_df, raw_panel_df))\n",
    "master_raw_panel_df.to_pickle('temp_panel_thru_100.pkl')"
   ]
  },
  {
   "cell_type": "code",
   "execution_count": null,
   "metadata": {},
   "outputs": [],
   "source": [
    "# TODO TUESDAY\n",
    "start = 50\n",
    "end = 200\n",
    "markets_list = master_markets_list[start:end] \n",
    "raw_panel_df = CoinAPI.pullMarketData(BASE_URL, BASE_HEADERS, markets_list, \n",
    "                                TARGET_FREQ, TIME_START, TIME_END)\n",
    "master_raw_panel_df = pd.concat((master_raw_panel_df, raw_panel_df))\n",
    "master_raw_panel_df.to_pickle('temp_panel_thru_200.pkl')"
   ]
  },
  {
   "cell_type": "code",
   "execution_count": null,
   "metadata": {},
   "outputs": [],
   "source": [
    "# TODO W\n",
    "start = 200\n",
    "end = 375\n",
    "markets_list = master_markets_list[start:end] \n",
    "raw_panel_df = CoinAPI.pullMarketData(BASE_URL, BASE_HEADERS, markets_list, \n",
    "                                TARGET_FREQ, TIME_START, TIME_END)\n",
    "master_raw_panel_df = pd.concat((master_raw_panel_df, raw_panel_df))\n",
    "master_raw_panel_df.to_pickle('temp_panel_thru_375.pkl')"
   ]
  },
  {
   "cell_type": "code",
   "execution_count": null,
   "metadata": {},
   "outputs": [],
   "source": [
    "# TODO Th\n",
    "start = 375\n",
    "end = 550\n",
    "markets_list = master_markets_list[start:end] \n",
    "raw_panel_df = CoinAPI.pullMarketData(BASE_URL, BASE_HEADERS, markets_list, \n",
    "                                TARGET_FREQ, TIME_START, TIME_END)\n",
    "master_raw_panel_df = pd.concat((master_raw_panel_df, raw_panel_df))\n",
    "master_raw_panel_df.to_pickle('temp_panel_thru_550.pkl')"
   ]
  },
  {
   "cell_type": "code",
   "execution_count": null,
   "metadata": {},
   "outputs": [],
   "source": [
    "# TODO F\n",
    "start = 550\n",
    "end = 725\n",
    "markets_list = master_markets_list[start:end] \n",
    "raw_panel_df = CoinAPI.pullMarketData(BASE_URL, BASE_HEADERS, markets_list, \n",
    "                                TARGET_FREQ, TIME_START, TIME_END)\n",
    "master_raw_panel_df = pd.concat((master_raw_panel_df, raw_panel_df))\n",
    "master_raw_panel_df.to_pickle('temp_panel_thru_725.pkl')"
   ]
  },
  {
   "cell_type": "code",
   "execution_count": null,
   "metadata": {},
   "outputs": [],
   "source": [
    "# TODO \n",
    "start = 725\n",
    "end = 900\n",
    "markets_list = master_markets_list[start:end] \n",
    "raw_panel_df = CoinAPI.pullMarketData(BASE_URL, BASE_HEADERS, markets_list, \n",
    "                                TARGET_FREQ, TIME_START, TIME_END)\n",
    "master_raw_panel_df = pd.concat((master_raw_panel_df, raw_panel_df))\n",
    "master_raw_panel_df.to_pickle('temp_panel_thru_900.pkl')"
   ]
  },
  {
   "cell_type": "code",
   "execution_count": null,
   "metadata": {},
   "outputs": [],
   "source": [
    "# TODO\n",
    "start = 900\n",
    "end = 1075\n",
    "markets_list = master_markets_list[start:end] \n",
    "raw_panel_df = CoinAPI.pullMarketData(BASE_URL, BASE_HEADERS, markets_list, \n",
    "                                TARGET_FREQ, TIME_START, TIME_END)\n",
    "master_raw_panel_df = pd.concat((master_raw_panel_df, raw_panel_df))\n",
    "master_raw_panel_df.to_pickle('temp_panel_thru_1075.pkl')"
   ]
  },
  {
   "cell_type": "code",
   "execution_count": null,
   "metadata": {},
   "outputs": [],
   "source": [
    "# TODO \n",
    "start = 1075\n",
    "end = 1250\n",
    "markets_list = master_markets_list[start:end] \n",
    "raw_panel_df = CoinAPI.pullMarketData(BASE_URL, BASE_HEADERS, markets_list, \n",
    "                                TARGET_FREQ, TIME_START, TIME_END)\n",
    "master_raw_panel_df = pd.concat((master_raw_panel_df, raw_panel_df))\n",
    "master_raw_panel_df.to_pickle('temp_panel_thru_200.pkl')"
   ]
  },
  {
   "cell_type": "code",
   "execution_count": null,
   "metadata": {},
   "outputs": [],
   "source": [
    "# TODO \n",
    "start = 1250\n",
    "markets_list = master_markets_list[start:] \n",
    "raw_panel_df = CoinAPI.pullMarketData(BASE_URL, BASE_HEADERS, markets_list, \n",
    "                                TARGET_FREQ, TIME_START, TIME_END)\n",
    "master_raw_panel_df = pd.concat((master_raw_panel_df, raw_panel_df))\n",
    "master_raw_panel_df.to_pickle('temp_pane.pkl')"
   ]
  },
  {
   "cell_type": "code",
   "execution_count": null,
   "metadata": {},
   "outputs": [],
   "source": [
    "\n",
    "\n",
    "# clean the panel\n",
    "panel_df = CoinAPI.cleanPanel(raw_panel_df, prices_df, macro_df, TARGET_FREQ)\n",
    "panel_df.to_pickle(PANEL_OUT_FP)"
   ]
  },
  {
   "cell_type": "code",
   "execution_count": null,
   "metadata": {},
   "outputs": [],
   "source": [
    "\n",
    "    \n",
    "\n"
   ]
  },
  {
   "cell_type": "code",
   "execution_count": null,
   "metadata": {},
   "outputs": [],
   "source": [
    "\n",
    "\n"
   ]
  }
 ],
 "metadata": {
  "kernelspec": {
   "display_name": "tf",
   "language": "python",
   "name": "python3"
  },
  "language_info": {
   "codemirror_mode": {
    "name": "ipython",
    "version": 3
   },
   "file_extension": ".py",
   "mimetype": "text/x-python",
   "name": "python",
   "nbconvert_exporter": "python",
   "pygments_lexer": "ipython3",
   "version": "3.10.9"
  },
  "orig_nbformat": 4,
  "vscode": {
   "interpreter": {
    "hash": "e428bc405edc59f3352e9792cab27c5e28560f7efb4b47308a6c6ea38cd15df2"
   }
  }
 },
 "nbformat": 4,
 "nbformat_minor": 2
}
