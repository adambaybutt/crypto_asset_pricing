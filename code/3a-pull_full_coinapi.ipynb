{
 "cells": [
  {
   "cell_type": "code",
   "execution_count": null,
   "metadata": {},
   "outputs": [],
   "source": [
    "# TODO pull in the asset universe\n",
    "# TODO see if i want the asset info on the assets for anything useful; otherwise ignore\n",
    "# TODO see if anything useful about exchanges; maybe get total volume if they have somewhere\n",
    "# -remove the function from the OG script?\n",
    "\n",
    "\n",
    "# TODO pull over needed functions as a copy\n",
    "\n",
    "# TODO pull all the markets with the pullMarketInfo function; adjust to work for both freq; specificied assets as well\n",
    "# TODO pull USDT and USDC exchange rates; adjust to work for both freq\n",
    "# TODO pull market data function but need to adjust to work either for daily level or hourly level;  specificied assets as well\n",
    "# -pull all markets in those three stables for all my assets to get prices, volume, and trades at HOURLY freq\n",
    "# --so check first if the market offers hourly freq?\n",
    "# TODO build the panel\n"
   ]
  },
  {
   "cell_type": "code",
   "execution_count": null,
   "metadata": {},
   "outputs": [],
   "source": [
    "# TODO figure out how to pully hourly bid and ask for those markets to add to the panel as well\n",
    "\n",
    "url = 'https://rest.coinapi.io/v1/quotes/BITSTAMP_SPOT_BTC_USD/history?time_start=2016-01-01T00:00:00'\n",
    "\n",
    "\n",
    "time_start = 1\n",
    "time_end = 2\n",
    "limit = 50000"
   ]
  },
  {
   "cell_type": "code",
   "execution_count": null,
   "metadata": {},
   "outputs": [],
   "source": [
    "\n",
    "# TODO move functions to the helper function call\n",
    "\n",
    "# TODO adjust the OG script to see if they work for it too\n",
    "\n"
   ]
  }
 ],
 "metadata": {
  "kernelspec": {
   "display_name": "tf",
   "language": "python",
   "name": "python3"
  },
  "language_info": {
   "name": "python",
   "version": "3.9.12 (main, Jun  1 2022, 11:38:51) \n[GCC 7.5.0]"
  },
  "orig_nbformat": 4,
  "vscode": {
   "interpreter": {
    "hash": "e428bc405edc59f3352e9792cab27c5e28560f7efb4b47308a6c6ea38cd15df2"
   }
  }
 },
 "nbformat": 4,
 "nbformat_minor": 2
}
