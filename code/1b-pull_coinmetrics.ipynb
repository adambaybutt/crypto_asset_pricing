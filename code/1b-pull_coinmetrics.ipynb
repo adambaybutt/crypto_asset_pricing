{
 "cells": [
  {
   "cell_type": "code",
   "execution_count": 1,
   "id": "60883846",
   "metadata": {},
   "outputs": [],
   "source": [
    "import pandas as pd\n",
    "import numpy as np\n",
    "from helper_functions import Coinmetrics"
   ]
  },
  {
   "cell_type": "code",
   "execution_count": null,
   "id": "a068d577",
   "metadata": {},
   "outputs": [],
   "source": [
    "if __name__ == \"__main__\":\n",
    "    # set args\n",
    "    CM_API_FP = '../../admin/coinmetrics.txt'\n",
    "    BASE_URL = 'https://api.coinmetrics.io/v4/'\n",
    "    PANEL_FP = '../data/raw/coinmetrics_panel_initial.pkl'\n",
    "    TARGET_US_EXCHANGES = ['binance.us',  'bitstamp', 'coinbase', 'crypto.com', 'ftx.us', \n",
    "        'gemini', 'kraken', 'kucoin']\n",
    "    TARGET_METRICS = ['SplyAct1yr', 'SplyActEver', 'SplyCur', 'SplyFF', \n",
    "                      'CapMrktCurUSD', 'CapMrktEstUSD', 'CapMrktFFUSD', 'CapRealUSD']\n",
    "    TARGET_FREQ = '1d'\n",
    "    STUDY_START = '2016-07-01'\n",
    "    STUDY_END = '2023-01-03'\n",
    "    \n",
    "    # import api key\n",
    "    with open(CM_API_FP) as f:\n",
    "        API_KEY = f.readlines()\n",
    "        API_KEY = API_KEY[0].strip()\n",
    "    BASE_PARAMS = {'api_key': API_KEY}\n",
    "\n",
    "    # pull meta data on target exchanges\n",
    "    exchanges_df = Coinmetrics.pullExchangeInfo(BASE_URL, BASE_PARAMS, TARGET_US_EXCHANGES)\n",
    "\n",
    "    # pull meta data on coinmetrics assets\n",
    "    assets_df = Coinmetrics.pullAssetInfo(BASE_URL, BASE_PARAMS)\n",
    "\n",
    "    # pull meta data markets and subset down to target markets\n",
    "    markets_df = Coinmetrics.pullAndFormRelevantMarkets(exchanges_df, assets_df, BASE_URL, BASE_PARAMS)\n",
    "\n",
    "    # pull usdt and usdc exchange rates\n",
    "    usd_df = Coinmetrics.pullAssetMetrics(BASE_URL, BASE_PARAMS, assets_df, STUDY_START, STUDY_END, \n",
    "                                          TARGET_FREQ, ['usdc', 'usdt'], ['ReferenceRateUSD'])\n",
    "    usd_df = Coinmetrics.cleanUSDPrices(usd_df, TARGET_FREQ)\n",
    "\n",
    "    # pull ohlcv data\n",
    "    panel_df = Coinmetrics.pullOHLCV(BASE_URL, BASE_PARAMS, STUDY_START, STUDY_END, TARGET_FREQ, markets_df)\n",
    "    panel_df = Coinmetrics.cleanOHLCV(panel_df, TARGET_FREQ, markets_df, usd_df)\n",
    "\n",
    "    # pull mcap data\n",
    "    asset_universe = list(np.unique(panel_df.asset.values))\n",
    "    mcap_df = Coinmetrics.pullAssetMetrics(BASE_URL, BASE_PARAMS, assets_df, STUDY_START, STUDY_END, \n",
    "                                           TARGET_FREQ, asset_universe, TARGET_METRICS)\n",
    "    mcap_df = Coinmetrics.cleanPanel(mcap_df)\n",
    "    \n",
    "    # merge and save the panel\n",
    "    panel_df = panel_df.merge(mcap_df, \n",
    "                            on=['asset', 'date'],\n",
    "                            how='outer',\n",
    "                            validate='one_to_one')\n",
    "    panel_df = panel_df.sort_values(by=['date', 'asset'], ignore_index=True)\n",
    "    panel_df.to_pickle(PANEL_FP)"
   ]
  }
 ],
 "metadata": {
  "kernelspec": {
   "display_name": "tf",
   "language": "python",
   "name": "python3"
  },
  "language_info": {
   "codemirror_mode": {
    "name": "ipython",
    "version": 3
   },
   "file_extension": ".py",
   "mimetype": "text/x-python",
   "name": "python",
   "nbconvert_exporter": "python",
   "pygments_lexer": "ipython3",
   "version": "3.10.9"
  },
  "vscode": {
   "interpreter": {
    "hash": "e428bc405edc59f3352e9792cab27c5e28560f7efb4b47308a6c6ea38cd15df2"
   }
  }
 },
 "nbformat": 4,
 "nbformat_minor": 5
}
