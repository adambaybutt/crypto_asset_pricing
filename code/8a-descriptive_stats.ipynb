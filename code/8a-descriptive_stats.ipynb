{
 "cells": [
  {
   "cell_type": "code",
   "execution_count": null,
   "id": "92c2a640",
   "metadata": {},
   "outputs": [],
   "source": [
    "# TODO UPDATE THIS OLD MESSY SCRIPT FROM RA"
   ]
  },
  {
   "cell_type": "code",
   "execution_count": 220,
   "id": "69c82617",
   "metadata": {},
   "outputs": [],
   "source": [
    "import pandas as pd\n",
    "import numpy as np\n",
    "import matplotlib.pyplot as plt\n",
    "import statistics\n",
    "import math\n",
    "import scipy\n",
    "from scipy.stats import kurtosis\n",
    "from scipy.stats import skew\n",
    "from datetime import timedelta"
   ]
  },
  {
   "cell_type": "code",
   "execution_count": null,
   "id": "57938ac6",
   "metadata": {},
   "outputs": [],
   "source": [
    "# read in the data\n",
    "panel_df = pd.read_pickle(\"../3-data/clean/raw_panel.pkl\")\n"
   ]
  },
  {
   "cell_type": "code",
   "execution_count": 222,
   "id": "e031838c",
   "metadata": {},
   "outputs": [],
   "source": [
    "# data frame for daily frequency\n",
    "daily_df = panel_df.copy()"
   ]
  },
  {
   "cell_type": "code",
   "execution_count": 223,
   "id": "0595e3d0",
   "metadata": {},
   "outputs": [],
   "source": [
    "# create the data frame for weekly frequency where only sundays are kept\n",
    "panel_df['weekday'] = panel_df['date'].dt.day_of_week\n",
    "weekly_df = panel_df[panel_df.weekday == 6]"
   ]
  },
  {
   "cell_type": "code",
   "execution_count": 224,
   "id": "77932ba2",
   "metadata": {},
   "outputs": [],
   "source": [
    "# create data frame with monthly frequency where we define months as every 28 days\n",
    "weekly_df.assign(week_count=weekly_df.groupby(['date']).ngroup() + 1)\n",
    "temp_df = weekly_df[['date']].drop_duplicates().reset_index(drop=True)\n",
    "temp_df['week_count'] = np.arange(temp_df.shape[0])\n",
    "weekly_df = weekly_df.merge(temp_df,\n",
    "                            on=['date'],\n",
    "                            how='inner',\n",
    "                            validate='many_to_one')\n",
    "monthly_df = weekly_df[0 == (weekly_df.week_count % 4)]"
   ]
  },
  {
   "cell_type": "code",
   "execution_count": 225,
   "id": "3086e869",
   "metadata": {},
   "outputs": [],
   "source": [
    "# compute daily returns for each asset\n",
    "temp_daily_df = daily_df.copy()\n",
    "temp_daily_df.rename(columns={'usd_per_token':'usd_per_token_1'},inplace=True)\n",
    "temp_daily_df = temp_daily_df[[\"date\",\"asset\",\"usd_per_token_1\"]]\n",
    "temp_daily_df[\"date\"] = temp_daily_df[\"date\"] + timedelta(days=1)\n",
    "daily_df = temp_daily_df.merge(daily_df,\n",
    "                               on=[\"date\", \"asset\"],\n",
    "                               how='inner',\n",
    "                               validate='one_to_one')\n",
    "daily_df['simpleret'] = (daily_df.usd_per_token-daily_df.usd_per_token_1)/daily_df.usd_per_token_1\n",
    "daily_df = daily_df.drop('usd_per_token_1', axis=1)"
   ]
  },
  {
   "cell_type": "code",
   "execution_count": 226,
   "id": "656c0f6e",
   "metadata": {},
   "outputs": [],
   "source": [
    "# compute the weekly returns for each asset\n",
    "temp_weekly_df = weekly_df.copy()\n",
    "temp_weekly_df.rename(columns={'usd_per_token':'usd_per_token_1'},inplace=True)\n",
    "temp_weekly_df = temp_weekly_df[[\"date\",\"asset\",\"usd_per_token_1\"]]\n",
    "temp_weekly_df[\"date\"] = temp_weekly_df[\"date\"] + timedelta(days=7)\n",
    "weekly_df = temp_weekly_df.merge(weekly_df,\n",
    "                            on=[\"date\", \"asset\"],\n",
    "                            how='inner',\n",
    "                            validate='one_to_one')\n",
    "weekly_df['simpleret'] = (weekly_df.usd_per_token-weekly_df.usd_per_token_1)/weekly_df.usd_per_token_1\n",
    "weekly_df = weekly_df.drop('usd_per_token_1', axis=1)"
   ]
  },
  {
   "cell_type": "code",
   "execution_count": 227,
   "id": "637af0ea",
   "metadata": {},
   "outputs": [],
   "source": [
    "# compute the monthly returns for each asset\n",
    "temp_monthly_df = monthly_df.copy()\n",
    "temp_monthly_df.rename(columns={'usd_per_token':'usd_per_token_1'},inplace=True)\n",
    "temp_monthly_df = temp_monthly_df[[\"date\",\"asset\",\"usd_per_token_1\"]]\n",
    "temp_monthly_df[\"date\"] = temp_monthly_df[\"date\"] + timedelta(days=28)\n",
    "monthly_df = temp_monthly_df.merge(monthly_df,\n",
    "                            on=[\"date\", \"asset\"],\n",
    "                            how='inner',\n",
    "                            validate='one_to_one')\n",
    "monthly_df['simpleret'] = (monthly_df.usd_per_token-monthly_df.usd_per_token_1)/monthly_df.usd_per_token_1\n",
    "monthly_df = monthly_df.drop('usd_per_token_1', axis=1)"
   ]
  },
  {
   "cell_type": "code",
   "execution_count": 228,
   "id": "c87ce876",
   "metadata": {},
   "outputs": [],
   "source": [
    "# create a new data with daily frequenct frame called \"new_daily_df\" where only data from 2016-2021 are kept\n",
    "daily_df[\"date\"] = pd.to_datetime(daily_df.date)\n",
    "new_daily_df = daily_df[daily_df.date.dt.year != 2015]"
   ]
  },
  {
   "cell_type": "code",
   "execution_count": 229,
   "id": "1e86efc5",
   "metadata": {},
   "outputs": [],
   "source": [
    "# create a new data frame with weekly frequency called \"new_weekly_df\" where only data from 2016-2021 are kept\n",
    "weekly_df[\"date\"] = pd.to_datetime(weekly_df.date)\n",
    "new_weekly_df = weekly_df[weekly_df.date.dt.year != 2015]"
   ]
  },
  {
   "cell_type": "code",
   "execution_count": 230,
   "id": "989edcb8",
   "metadata": {},
   "outputs": [],
   "source": [
    "# create a new data frame with monthly frequency called \"new_monthly_df\" where only data from 2016-2021 are kept\n",
    "monthly_df[\"date\"] = pd.to_datetime(monthly_df.date)\n",
    "new_monthly_df = monthly_df[monthly_df.date.dt.year != 2015]"
   ]
  },
  {
   "cell_type": "code",
   "execution_count": null,
   "id": "77baaad6",
   "metadata": {},
   "outputs": [],
   "source": [
    "# recreate the 3 side-by-side histograms for daily, weekly, and monthly simple returns \n",
    "\n",
    "plt.subplot(1,3,1)\n",
    "plt.hist(new_daily_df.simpleret, bins = [-1,-0.9,-0.8,-0.7,-0.6,-0.5,-0.4,-0.3,-0.2,-0.1,0,0.1,0.2,0.3,0.4,0.5,0.6,0.7,0.8,0.9,1])\n",
    "plt.xlim(-1,1)\n",
    "plt.xlabel(\"daily simple returns\")\n",
    "\n",
    "plt.subplot(1,3,2)\n",
    "plt.hist(new_weekly_df.simpleret, bins = [-1,-0.9,-0.8,-0.7,-0.6,-0.5,-0.4,-0.3,-0.2,-0.1,0,0.1,0.2,0.3,0.4,0.5,0.6,0.7,0.8,0.9,1,1.1,1.2,1.3,1.4,1.5,1.6,1.7,1.8,1.9,2])\n",
    "plt.xlim(-1,2)\n",
    "plt.xlabel(\"weekly simple returns\")\n",
    "\n",
    "plt.subplot(1,3,3)\n",
    "plt.hist(new_monthly_df.simpleret, bins = [-1,-0.9,-0.8,-0.7,-0.6,-0.5,-0.4,-0.3,-0.2,-0.1,0,0.1,0.2,0.3,0.4,0.5,0.6,0.7,0.8,0.9,1,1.1,1.2,1.3,1.4,1.5,1.6,1.7,1.8,1.9,2,2.1,2.2,2.3,2.4,2.5,2.6,2.7,2.8,2.9,3,3.1,3.2,3.3,3.4,3.5,3.6,3.7,3.8,3.9,4,4.1,4.2,4.3,4.4,4.5,4.6,4.7,4.8,4.9,5,5.1,5.2,5.3,5.4,5.5,5.6,5.7,5.8,5.9,6])\n",
    "plt.xlim(-1,6)\n",
    "plt.xlabel(\"monthly simple returns\")"
   ]
  },
  {
   "cell_type": "code",
   "execution_count": null,
   "id": "6eeada8d",
   "metadata": {},
   "outputs": [],
   "source": [
    "# recreate the daily simple returns histogram alone (some extremely positive returns (outliers) might not be captured but might affect the distribution)\n",
    "plt.hist(new_daily_df.simpleret, bins = [-1,-0.9,-0.8,-0.7,-0.6,-0.5,-0.4,-0.3,-0.2,-0.1,0,0.1,0.2,0.3,0.4,0.5,0.6,0.7,0.8,0.9,1])\n",
    "plt.xlim(-1,1)\n",
    "plt.xlabel(\"daily simple returns\")"
   ]
  },
  {
   "cell_type": "code",
   "execution_count": null,
   "id": "6093b024",
   "metadata": {},
   "outputs": [],
   "source": [
    "# recreate the weekly simple returns histogrm alone (some extremely positive returns (outliers) might not be captured but might affect the distribution)\n",
    "plt.hist(new_weekly_df.simpleret, bins = [-1,-0.9,-0.8,-0.7,-0.6,-0.5,-0.4,-0.3,-0.2,-0.1,0,0.1,0.2,0.3,0.4,0.5,0.6,0.7,0.8,0.9,1,1.1,1.2,1.3,1.4,1.5,1.6,1.7,1.8,1.9,2])\n",
    "plt.xlim(-1,2)\n",
    "plt.xlabel(\"weekly simple returns\")"
   ]
  },
  {
   "cell_type": "code",
   "execution_count": null,
   "id": "92473e7f",
   "metadata": {},
   "outputs": [],
   "source": [
    "# recreate the monthly simple returns histogrm alone (some extremely positive returns (outliers) might not be captured but might affect the distribution)\n",
    "plt.hist(new_monthly_df.simpleret, bins = [-1,-0.9,-0.8,-0.7,-0.6,-0.5,-0.4,-0.3,-0.2,-0.1,0,0.1,0.2,0.3,0.4,0.5,0.6,0.7,0.8,0.9,1,1.1,1.2,1.3,1.4,1.5,1.6,1.7,1.8,1.9,2,2.1,2.2,2.3,2.4,2.5,2.6,2.7,2.8,2.9,3,3.1,3.2,3.3,3.4,3.5,3.6,3.7,3.8,3.9,4,4.1,4.2,4.3,4.4,4.5,4.6,4.7,4.8,4.9,5,5.1,5.2,5.3,5.4,5.5,5.6,5.7,5.8,5.9,6])\n",
    "plt.xlim(-1,6)\n",
    "plt.xlabel(\"monthly simple returns\")"
   ]
  },
  {
   "cell_type": "code",
   "execution_count": null,
   "id": "5334e7cf",
   "metadata": {},
   "outputs": [],
   "source": [
    "# create the within day total market cap for each day\n",
    "new_daily_df['mcap_sum'] = new_daily_df.groupby('date')['usd_mcap'].transform('sum')"
   ]
  },
  {
   "cell_type": "code",
   "execution_count": null,
   "id": "1bfe6538",
   "metadata": {},
   "outputs": [],
   "source": [
    "# compute the market cap share of each asset on each day\n",
    "new_daily_df['mcap_weight'] = new_daily_df.usd_mcap / new_daily_df.mcap_sum"
   ]
  },
  {
   "cell_type": "code",
   "execution_count": null,
   "id": "857028bb",
   "metadata": {},
   "outputs": [],
   "source": [
    "# calculate the within day average return where each asset's return is weighted by its market share\n",
    "new_daily_df['mcap_r_t'] = new_daily_df.simpleret * new_daily_df.mcap_weight\n",
    "new_daily_df['mcap_r_t'] = new_daily_df.groupby('date')[['mcap_r_t']].transform(sum)\n"
   ]
  },
  {
   "cell_type": "code",
   "execution_count": null,
   "id": "2ed71399",
   "metadata": {},
   "outputs": [],
   "source": [
    "# repeat the same procedure to create a data frame that computes the within week average return where each assets return is weighted by its market share\n",
    "\n",
    "new_weekly_df['mcap_sum'] = new_weekly_df.groupby('date')['usd_mcap'].transform('sum')\n",
    "new_weekly_df['mcap_weight'] = new_weekly_df.usd_mcap / new_weekly_df.mcap_sum\n",
    "new_weekly_df['mcap_r_t'] = new_weekly_df.simpleret * new_weekly_df.mcap_weight\n",
    "new_weekly_df['mcap_r_t'] = new_weekly_df.groupby('date')[['mcap_r_t']].transform(sum)\n",
    "new_weekly_df = new_weekly_df[['date','mcap_r_t']].drop_duplicates()"
   ]
  },
  {
   "cell_type": "code",
   "execution_count": null,
   "id": "30d2b038",
   "metadata": {},
   "outputs": [],
   "source": [
    "# repeat the same procedure to create a data frame that computes the within month average return where each assets return is weighted by its market share\n",
    "\n",
    "new_monthly_df['mcap_sum'] = new_monthly_df.groupby('date')['usd_mcap'].transform(sum)\n",
    "new_monthly_df['mcap_weight'] = new_monthly_df.usd_mcap / new_monthly_df.mcap_sum\n",
    "new_monthly_df['mcap_r_t'] = new_monthly_df.simpleret * new_monthly_df.mcap_weight\n",
    "new_monthly_df['mcap_r_t'] = new_monthly_df.groupby('date')[['mcap_r_t']].transform(sum)\n",
    "new_monthly_df = new_monthly_df[['date','mcap_r_t']].drop_duplicates()"
   ]
  },
  {
   "cell_type": "code",
   "execution_count": null,
   "id": "ac2eec4b",
   "metadata": {},
   "outputs": [],
   "source": [
    "new_daily_df[\"one_plus_simpleret\"] = new_daily_df[\"simpleret\"]+1\n",
    "new_daily_df[\"one_plus_mcap_rt\"] = new_daily_df[\"mcap_r_t\"]+1\n",
    "\n",
    "new_daily_df[\"daily_val_investment\"] = new_daily_df.groupby('date')['one_plus_simpleret'].cumprod() # cumulative product of all daily simple returns\n",
    "\n",
    "new_daily_df[\"bitcoin_return\"] = new_daily_df.simpleret[new_daily_df.asset==\"bitcoin\"]\n",
    "new_daily_df[\"one_plus_bitcoin_return\"] = new_daily_df[\"bitcoin_return\"].fillna(0)+1\n",
    "new_daily_df[\"bitcoin_cum_ret\"] = new_daily_df.groupby('date')['one_plus_bitcoin_return'].cumprod() # cumulative product of daily simple returns of bitcoin\n",
    "\n",
    "new_daily_df[\"ethereum_return\"] = new_daily_df.simpleret[new_daily_df.asset==\"ethereum\"]\n",
    "new_daily_df[\"one_plus_ethereum_return\"] = new_daily_df[\"ethereum_return\"].fillna(0)+1\n",
    "new_daily_df[\"ethereum_cum_ret\"] = new_daily_df.groupby('date')['one_plus_ethereum_return'].cumprod() # cumultaive product of daily simple returns of ethereum\n",
    "\n",
    "new_daily_df[\"CMKT_val_investment\"] = new_daily_df.groupby('date')['one_plus_mcap_rt'].cumprod() # cumulative product of daily market weighted simple returns"
   ]
  },
  {
   "cell_type": "code",
   "execution_count": 241,
   "id": "bf8d9552",
   "metadata": {},
   "outputs": [],
   "source": [
    "bitcoin_df = new_daily_df[new_daily_df.asset == \"bitcoin\"]\n",
    "btc_cum_inv_array = bitcoin_df['one_plus_simpleret'].cumprod().values\n"
   ]
  },
  {
   "cell_type": "code",
   "execution_count": 242,
   "id": "3774e5b8",
   "metadata": {},
   "outputs": [],
   "source": [
    "eth_df = new_daily_df[new_daily_df.asset == \"ethereum\"]\n",
    "eth_cum_inv_array = eth_df['one_plus_simpleret'].cumprod().values"
   ]
  },
  {
   "cell_type": "code",
   "execution_count": 243,
   "id": "37e6c050",
   "metadata": {},
   "outputs": [],
   "source": [
    "cmkt_df = new_daily_df[['date','one_plus_mcap_rt']]\n",
    "cmkt_df = cmkt_df.drop_duplicates()\n",
    "cmkt_cum_inv_array = cmkt_df['one_plus_mcap_rt'].cumprod().values"
   ]
  },
  {
   "cell_type": "code",
   "execution_count": null,
   "id": "a9375e50",
   "metadata": {},
   "outputs": [],
   "source": [
    "dates = bitcoin_df.date.values\n",
    "cum_inv_df = pd.DataFrame(data={'Bitcoin':btc_cum_inv_array,\n",
    "                   'Ethereum':eth_cum_inv_array,\n",
    "                   'Crypto Market':cmkt_cum_inv_array})\n",
    "cum_inv_df = cum_inv_df.set_index(dates)\n",
    "cum_inv_df.plot(style = ['b-','g--','r-.'])\n"
   ]
  },
  {
   "cell_type": "code",
   "execution_count": 245,
   "id": "db152ec5",
   "metadata": {},
   "outputs": [],
   "source": [
    "VTI = pd.read_csv(\"../3-data/raw/VTI.csv\")\n",
    "VTI_df = pd.DataFrame(data={'Date':VTI['Date'],\n",
    "                            'Price':VTI['Adj Close']})\n",
    "VTI_df['Date'] = pd.to_datetime(VTI_df.Date)\n",
    "VTI_df         = VTI_df[VTI_df.Date.dt.year >= 2016]\n",
    "VTI_df         = VTI_df[VTI_df.Date.dt.year <= 2021]\n",
    "VTI_df = VTI_df.reset_index(drop=True)\n",
    "VTI_df['returns'] = VTI_df['Price'].pct_change(1)\n",
    "VTI_df = VTI_df.drop(index=0)\n",
    "VTI_mean = statistics.mean(VTI_df.returns)\n",
    "VTI_sd = statistics.stdev(VTI_df.returns)\n",
    "VTI_t_stat = VTI_mean / (VTI_sd/math.sqrt(1510))\n",
    "VTI_sharpe = VTI_mean / VTI_sd\n",
    "VTI_skewness = skew(VTI_df.returns)\n",
    "VTI_kurt = kurtosis(VTI_df.returns,fisher = False)\n",
    "VTI_positive = len(VTI_df.loc[VTI_df.returns>0]) / 1510\n",
    "\n",
    "cmkt_df['mcap_rt'] = cmkt_df['one_plus_mcap_rt']-1\n",
    "cmkt_mean = statistics.mean(cmkt_df.mcap_rt)\n",
    "cmkt_sd = statistics.stdev(cmkt_df.mcap_rt)\n",
    "cmkt_t_stat = cmkt_mean / (cmkt_sd/math.sqrt(2192))\n",
    "cmkt_sharpe = cmkt_mean / cmkt_sd\n",
    "cmkt_skewness = skew(cmkt_df.mcap_rt)\n",
    "cmkt_kurt = kurtosis(cmkt_df.mcap_rt,fisher = False)\n",
    "cmkt_positive = len(cmkt_df.loc[cmkt_df.mcap_rt>0]) / 2192\n",
    "\n",
    "cmkt_disaster_5 = len(cmkt_df.loc[cmkt_df.mcap_rt<-0.05]) \n",
    "cmkt_disaster_5_percent = cmkt_disaster_5 / 2192                                        \n",
    "cmkt_disaster_10 = len(cmkt_df.loc[cmkt_df.mcap_rt<-0.1])\n",
    "cmkt_disaster_10_percent = cmkt_disaster_10/2192\n",
    "cmkt_disaster_15 = len(cmkt_df.loc[cmkt_df.mcap_rt<-0.15])\n",
    "cmkt_disaster_15_percent = cmkt_disaster_15/2192\n",
    "cmkt_disaster_20 = len(cmkt_df.loc[cmkt_df.mcap_rt<-0.2])\n",
    "cmkt_disaster_20_percent = cmkt_disaster_20/2192\n",
    "cmkt_miracle_5 = len(cmkt_df.loc[cmkt_df.mcap_rt>0.05]) \n",
    "cmkt_miracle_5_percent = cmkt_miracle_5 / 2192\n",
    "cmkt_miracle_10 = len(cmkt_df.loc[cmkt_df.mcap_rt>0.1]) \n",
    "cmkt_miracle_10_percent = cmkt_miracle_10 / 2192\n",
    "cmkt_miracle_15 = len(cmkt_df.loc[cmkt_df.mcap_rt>0.15]) \n",
    "cmkt_miracle_15_percent = cmkt_miracle_15 / 2192\n",
    "cmkt_miracle_20 = len(cmkt_df.loc[cmkt_df.mcap_rt>0.2]) \n",
    "cmkt_miracle_20_percent = cmkt_miracle_20 / 2192\n",
    "\n",
    "bitcoin_mean = statistics.mean(bitcoin_df.simpleret)\n",
    "bitcoin_sd = statistics.stdev(bitcoin_df.simpleret)\n",
    "bitcoin_t_stat = bitcoin_mean / (bitcoin_sd/math.sqrt(2192))\n",
    "bitcoin_sharpe = bitcoin_mean / bitcoin_sd\n",
    "bitcoin_skewness = skew(bitcoin_df.simpleret)\n",
    "bitcoin_kurt = kurtosis(bitcoin_df.simpleret,fisher = False)\n",
    "bitcoin_positive = len(bitcoin_df.loc[bitcoin_df.simpleret>0]) / 2192\n",
    "\n",
    "ethereum_mean = statistics.mean(eth_df.simpleret)\n",
    "ethereum_sd = statistics.stdev(eth_df.simpleret)\n",
    "ethereum_t_stat = ethereum_mean / (ethereum_sd/math.sqrt(2192))\n",
    "ethereum_sharpe = ethereum_mean / ethereum_sd\n",
    "ethereum_skewness = skew(eth_df.simpleret)\n",
    "ethereum_kurt = kurtosis(eth_df.simpleret,fisher = False)\n",
    "ethereum_positive = len(eth_df.loc[eth_df.simpleret>0]) / 2192\n"
   ]
  },
  {
   "cell_type": "code",
   "execution_count": 246,
   "id": "6bd89902",
   "metadata": {},
   "outputs": [],
   "source": [
    "Extreme_events_df = pd.DataFrame(data={\"Disasters\":(\"< -5%\",\"< -10%\",\"< -15%\",\"< -20%\"),\n",
    "                                      \"Disaster_Counts\":(cmkt_disaster_5,cmkt_disaster_10,cmkt_disaster_15,cmkt_disaster_20),\n",
    "                                      \"Disaster_Proportion\":(cmkt_disaster_5_percent,cmkt_disaster_10_percent,cmkt_disaster_15_percent,cmkt_disaster_20_percent),\n",
    "                                      \"Miracles\":(\"> 5%\",\"> 10%\",\"> 15%\",\"> 20%\"),\n",
    "                                      \"Miracle_Counts\":(cmkt_miracle_5,cmkt_miracle_10,cmkt_miracle_15,cmkt_miracle_20),\n",
    "                                      \"Miracle_Proportions\":(cmkt_miracle_5_percent,cmkt_miracle_10_percent,cmkt_miracle_15_percent,cmkt_miracle_20_percent)})"
   ]
  },
  {
   "cell_type": "code",
   "execution_count": 247,
   "id": "207b9354",
   "metadata": {},
   "outputs": [],
   "source": [
    "daily_stats_df = pd.DataFrame(data={\"daily\":(\"CMKT\",\"Bitcoin\",\"Ethereum\",\"Stock\"),\n",
    "                                    \"mean\":(cmkt_mean,bitcoin_mean,ethereum_mean,VTI_mean),\n",
    "                                  \"sd\":(cmkt_sd,bitcoin_sd,ethereum_sd,VTI_sd),\n",
    "                                  \"t_stat\":(cmkt_t_stat,bitcoin_t_stat,ethereum_t_stat,VTI_t_stat),\n",
    "                                  \"sharpe\":(cmkt_sharpe,bitcoin_sharpe,ethereum_sharpe,VTI_sharpe),\n",
    "                                  \"skewness\":(cmkt_skewness,bitcoin_skewness,ethereum_skewness,VTI_skewness),\n",
    "                                  \"kurtosis\":(cmkt_kurt,bitcoin_kurt,ethereum_kurt,VTI_kurt),\n",
    "                                  \"% > 0\":(cmkt_positive,bitcoin_positive,ethereum_positive,VTI_positive)\n",
    "                                  })"
   ]
  },
  {
   "cell_type": "code",
   "execution_count": null,
   "id": "52447754",
   "metadata": {},
   "outputs": [],
   "source": [
    "new_VTI = pd.read_csv(\"../3-data/raw/VTI.csv\")\n",
    "new_VTI_df = pd.DataFrame(data={'Date':VTI['Date'],\n",
    "                                'Price':VTI['Adj Close']})\n",
    "VTI_df['Date'] = pd.to_datetime(VTI_df.Date)\n",
    "VTI_df         = VTI_df[VTI_df.Date.dt.year >= 2016]\n",
    "VTI_df         = VTI_df[VTI_df.Date.dt.year <= 2021]\n",
    "VTI_df = VTI_df.reset_index(drop=True)\n",
    "new_VTI_df['weekday'] = \\\n",
    "pd.to_datetime(new_VTI_df['Date']).dt.day_of_week\n",
    "VTI_df_weekly = new_VTI_df[new_VTI_df.weekday == 0]\n",
    "VTI_df_weekly['day_diff'] = (pd.to_datetime(VTI_df_weekly.Date)-\n",
    "                             pd.to_datetime(VTI_df_weekly.Date).shift(1))[1:].astype('timedelta64[D]').astype(int)\n",
    "VTI_df_weekly = VTI_df_weekly[VTI_df_weekly.day_diff==7]\n",
    "\n",
    "VTI_df_weekly['weekly_return'] = VTI_df_weekly['Price'].pct_change(1)\n",
    "new_weekly_VTI_df = VTI_df_weekly.reset_index()[1:]\n",
    "VTI_mean_weekly = statistics.mean(new_weekly_VTI_df.weekly_return)\n",
    "VTI_sd_weekly = statistics.stdev(new_weekly_VTI_df.weekly_return)\n",
    "VTI_t_stat_weekly = VTI_mean_weekly / (VTI_sd_weekly/math.sqrt(253))\n",
    "VTI_sharpe_weekly = VTI_mean_weekly / VTI_sd_weekly\n",
    "VTI_skewness_weekly = skew(new_weekly_VTI_df.weekly_return)\n",
    "VTI_kurt_weekly = kurtosis(new_weekly_VTI_df.weekly_return,fisher = False)\n",
    "VTI_positive_weekly = len(new_weekly_VTI_df.loc[new_weekly_VTI_df.weekly_return>0]) / 253\n",
    "\n",
    "weekly_bitcoin_df = bitcoin_df[bitcoin_df.date.dt.weekday == 6]\n",
    "weekly_bitcoin_df['weekly_return'] = weekly_bitcoin_df['usd_per_token'].pct_change(1)\n",
    "new_weekly_bitcoin_df = weekly_bitcoin_df.reset_index()[1:]\n",
    "bitcoin_mean_weekly = statistics.mean(new_weekly_bitcoin_df.weekly_return)\n",
    "bitcoin_sd_weekly = statistics.stdev(new_weekly_bitcoin_df.weekly_return)\n",
    "bitcoin_t_stat_weekly = bitcoin_mean_weekly / (bitcoin_sd_weekly/math.sqrt(312))\n",
    "bitcoin_sharpe_weekly = bitcoin_mean_weekly / bitcoin_sd_weekly\n",
    "bitcoin_skewness_weekly = skew(new_weekly_bitcoin_df.weekly_return)\n",
    "bitcoin_kurt_weekly = kurtosis(new_weekly_bitcoin_df.weekly_return,fisher = False)\n",
    "bitcoin_positive_weekly = len(new_weekly_bitcoin_df.loc[new_weekly_bitcoin_df.weekly_return>0]) / 312\n",
    "\n",
    "weekly_eth_df = eth_df[eth_df.date.dt.weekday == 6]\n",
    "weekly_eth_df['weekly_return'] = weekly_eth_df['usd_per_token'].pct_change(1)\n",
    "new_weekly_eth_df = weekly_eth_df.reset_index()[1:]\n",
    "eth_mean_weekly = statistics.mean(new_weekly_eth_df.weekly_return)\n",
    "eth_sd_weekly = statistics.stdev(new_weekly_eth_df.weekly_return)\n",
    "eth_t_stat_weekly = eth_mean_weekly / (eth_sd_weekly/math.sqrt(312))\n",
    "eth_sharpe_weekly = eth_mean_weekly / eth_sd_weekly\n",
    "eth_skewness_weekly = skew(new_weekly_eth_df.weekly_return)\n",
    "eth_kurt_weekly = kurtosis(new_weekly_eth_df.weekly_return,fisher = False)\n",
    "eth_positive_weekly = len(new_weekly_eth_df.loc[new_weekly_eth_df.weekly_return>0]) / 312\n",
    "\n",
    "cmkt_mean_weekly = statistics.mean(new_weekly_df.mcap_r_t)\n",
    "cmkt_sd_weekly = statistics.stdev(new_weekly_df.mcap_r_t)\n",
    "cmkt_t_stat_weekly = cmkt_mean_weekly / (cmkt_sd_weekly/math.sqrt(313))\n",
    "cmkt_sharpe_weekly = cmkt_mean_weekly / cmkt_sd_weekly\n",
    "cmkt_skewness_weekly = skew(new_weekly_df.mcap_r_t)\n",
    "cmkt_kurt_weekly = kurtosis(new_weekly_df.mcap_r_t,fisher = False)\n",
    "cmkt_positive_weekly = len(new_weekly_df.loc[new_weekly_df.mcap_r_t>0]) / 313\n",
    "\n",
    "weekly_stats_df = pd.DataFrame(data={\"weekly\":(\"CMKT\",\"Bitcoin\",\"Ethereum\",\"Stock\"),\n",
    "                                    \"mean\":(cmkt_mean_weekly,bitcoin_mean_weekly,eth_mean_weekly,VTI_mean_weekly),\n",
    "                                    \"sd\":(cmkt_sd_weekly,bitcoin_sd_weekly,eth_sd_weekly,VTI_sd_weekly),\n",
    "                                    \"t_stat\":(cmkt_t_stat_weekly,bitcoin_t_stat_weekly,eth_t_stat_weekly,VTI_t_stat_weekly),\n",
    "                                    \"sharpe\":(cmkt_sharpe_weekly,bitcoin_sharpe_weekly,eth_sharpe_weekly,VTI_sharpe_weekly),\n",
    "                                    \"skewness\":(cmkt_skewness_weekly,bitcoin_skewness_weekly,eth_skewness_weekly,VTI_skewness_weekly),\n",
    "                                    \"kurtosis\":(cmkt_kurt_weekly,bitcoin_kurt_weekly,eth_kurt_weekly,VTI_kurt_weekly),\n",
    "                                    \"% > 0\":(cmkt_positive_weekly,bitcoin_positive_weekly,eth_positive_weekly,VTI_positive_weekly)})"
   ]
  },
  {
   "cell_type": "code",
   "execution_count": null,
   "id": "9237bd0e",
   "metadata": {},
   "outputs": [],
   "source": [
    "# MIGHT NEED TO TAKE A LOOK INTO THIS as there are some month-end dates that falls in weekends / holidays and not sure if it will cause a material change to the descriptive statistics of the VTI stock.\n",
    "new_VTI_df['month_end'] = \\\n",
    "pd.to_datetime(new_VTI_df.Date).dt.is_month_end\n",
    "VTI_monthly_df = new_VTI_df[new_VTI_df['month_end'] == 1 ]\n",
    "VTI_monthly_df['monthly_return'] = VTI_monthly_df['Price'].pct_change(1)\n",
    "new_VTI_monthly_df = VTI_monthly_df.reset_index()[1:]\n",
    "\n",
    "VTI_mean_monthly = statistics.mean(new_VTI_monthly_df.monthly_return)\n",
    "VTI_sd_monthly = statistics.stdev(new_VTI_monthly_df.monthly_return)\n",
    "VTI_t_stat_monthly = VTI_mean_monthly / (VTI_sd_monthly/math.sqrt(49))\n",
    "VTI_sharpe_monthly = VTI_mean_monthly / VTI_sd_monthly\n",
    "VTI_skewness_monthly = skew(new_VTI_monthly_df.monthly_return)\n",
    "VTI_kurt_monthly = kurtosis(new_VTI_monthly_df.monthly_return,fisher = False)\n",
    "VTI_positive_monthly = len(new_VTI_monthly_df.loc[new_VTI_monthly_df.monthly_return>0]) / 49\n",
    "\n",
    "bitcoin_df['month_end'] = \\\n",
    "pd.to_datetime(bitcoin_df.date).dt.is_month_end\n",
    "monthly_bitcoin_df = bitcoin_df[bitcoin_df['month_end'] == 1]\n",
    "monthly_bitcoin_df['monthly_returns'] = monthly_bitcoin_df['usd_per_token'].pct_change(1)\n",
    "new_monthly_bitcoin_df = monthly_bitcoin_df.reset_index()[1:]\n",
    "bitcoin_mean_monthly = statistics.mean(new_monthly_bitcoin_df.monthly_returns)\n",
    "bitcoin_sd_monthly = statistics.stdev(new_monthly_bitcoin_df.monthly_returns)\n",
    "bitcoin_t_stat_monthly = bitcoin_mean_monthly / (bitcoin_sd_monthly/math.sqrt(71))\n",
    "bitcoin_sharpe_monthly = bitcoin_mean_monthly / bitcoin_sd_monthly\n",
    "bitcoin_skewness_monthly = skew(new_monthly_bitcoin_df.monthly_returns)\n",
    "bitcoin_kurt_monthly = kurtosis(new_monthly_bitcoin_df.monthly_returns,fisher = False)\n",
    "bitcoin_positive_monthly = len(new_monthly_bitcoin_df.loc[new_monthly_bitcoin_df.monthly_returns>0]) / 71\n",
    "\n",
    "eth_df['month_end'] = \\\n",
    "pd.to_datetime(eth_df.date).dt.is_month_end\n",
    "monthly_eth_df = eth_df[eth_df['month_end'] == 1]\n",
    "monthly_eth_df['monthly_returns'] = monthly_eth_df['usd_per_token'].pct_change(1)\n",
    "new_monthly_eth_df = monthly_eth_df.reset_index()[1:]\n",
    "eth_mean_monthly = statistics.mean(new_monthly_eth_df.monthly_returns)\n",
    "eth_sd_monthly = statistics.stdev(new_monthly_eth_df.monthly_returns)\n",
    "eth_t_stat_monthly = eth_mean_monthly / (eth_sd_monthly/math.sqrt(71))\n",
    "eth_sharpe_monthly = eth_mean_monthly / eth_sd_monthly\n",
    "eth_skewness_monthly = skew(new_monthly_eth_df.monthly_returns)\n",
    "eth_kurt_monthly = kurtosis(new_monthly_eth_df.monthly_returns,fisher = False)\n",
    "eth_positive_monthly = len(new_monthly_eth_df.loc[new_monthly_eth_df.monthly_returns>0]) / 71\n",
    "\n",
    "cmkt_mean_monthly = statistics.mean(new_monthly_df.mcap_r_t)\n",
    "cmkt_sd_monthly = statistics.stdev(new_monthly_df.mcap_r_t)\n",
    "cmkt_t_stat_monthly = cmkt_mean_monthly / (cmkt_sd_monthly/math.sqrt(72))\n",
    "cmkt_sharpe_monthly = cmkt_mean_monthly / cmkt_sd_monthly\n",
    "cmkt_skewness_monthly = skew(new_monthly_df.mcap_r_t)\n",
    "cmkt_kurt_monthly = kurtosis(new_monthly_df.mcap_r_t,fisher = False)\n",
    "cmkt_positive_monthly = len(new_monthly_df.loc[new_monthly_df.mcap_r_t>0]) / 72\n",
    "\n",
    "monthly_stats_df = pd.DataFrame(data={\"monthly\":(\"CMKT\",\"Bitcoin\",\"Ethereum\",\"Stock\"),\n",
    "                                    \"mean\":(cmkt_mean_monthly,bitcoin_mean_monthly,eth_mean_monthly,VTI_mean_monthly),\n",
    "                                    \"sd\":(cmkt_sd_monthly,bitcoin_sd_monthly,eth_sd_monthly,VTI_sd_monthly),\n",
    "                                    \"t_stat\":(cmkt_t_stat_monthly,bitcoin_t_stat_monthly,eth_t_stat_monthly,VTI_t_stat_monthly),\n",
    "                                    \"sharpe\":(cmkt_sharpe_monthly,bitcoin_sharpe_monthly,eth_sharpe_monthly,VTI_sharpe_monthly),\n",
    "                                    \"skewness\":(cmkt_skewness_monthly,bitcoin_skewness_monthly,eth_skewness_monthly,VTI_skewness_monthly),\n",
    "                                    \"kurtosis\":(cmkt_kurt_monthly,bitcoin_kurt_monthly,eth_kurt_monthly,VTI_kurt_monthly),\n",
    "                                    \"% > 0\":(cmkt_positive_monthly,bitcoin_positive_monthly,eth_positive_monthly,VTI_positive_monthly)})"
   ]
  },
  {
   "cell_type": "code",
   "execution_count": 250,
   "id": "531d6086",
   "metadata": {},
   "outputs": [],
   "source": [
    "\n",
    "fp = '../4-output/descriptive_stat.xlsx'\n",
    "\n",
    "with pd.ExcelWriter(fp, engine='openpyxl', mode='a', if_sheet_exists='replace') as writer: \n",
    "    daily_stats_df.to_excel(writer,sheet_name='daily')\n",
    "    weekly_stats_df.to_excel(writer,sheet_name='weekly')\n",
    "    monthly_stats_df.to_excel(writer,sheet_name='monthly')\n",
    "    Extreme_events_df.to_excel(writer,sheet_name='extreme')\n"
   ]
  }
 ],
 "metadata": {
  "kernelspec": {
   "display_name": "Python 3 (ipykernel)",
   "language": "python",
   "name": "python3"
  },
  "language_info": {
   "codemirror_mode": {
    "name": "ipython",
    "version": 3
   },
   "file_extension": ".py",
   "mimetype": "text/x-python",
   "name": "python",
   "nbconvert_exporter": "python",
   "pygments_lexer": "ipython3",
   "version": "3.9.12"
  }
 },
 "nbformat": 4,
 "nbformat_minor": 5
}
