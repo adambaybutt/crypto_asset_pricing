{
 "cells": [
  {
   "cell_type": "code",
   "execution_count": null,
   "metadata": {},
   "outputs": [],
   "source": [
    "# TODO reuse code from first notebook"
   ]
  },
  {
   "cell_type": "code",
   "execution_count": null,
   "metadata": {},
   "outputs": [],
   "source": [
    "# TODO: ask coinmetrics if i can obtain access to the endpoints:\n",
    "# -taxonomy/assets\n",
    "\n",
    "# TODO: pull exchange metrics for those so maybe just volume?\n",
    "# TODO: pull open interest in futures? maybe as macro variable but lets see if i can get for a bunch of assets\n",
    "# TODO: pull the institutions and associated metrics to see if anything of interest\n",
    "# TODO: pull bid and ask price for markets of target coins?\n",
    "# TODO: pull defi balance sheets\n",
    "# TODO: see if i am missing anything else to pull"
   ]
  },
  {
   "cell_type": "code",
   "execution_count": null,
   "metadata": {},
   "outputs": [],
   "source": [
    "all_metrics = []\n",
    "for metrics in asset_metrics_df.metrics.values:\n",
    "    if metrics is not np.nan:\n",
    "        for metric in metrics:\n",
    "            all_metrics.append(metric['metric'])\n",
    "list(np.unique(np.array(all_metrics)))"
   ]
  }
 ],
 "metadata": {
  "kernelspec": {
   "display_name": "tf",
   "language": "python",
   "name": "python3"
  },
  "language_info": {
   "name": "python",
   "version": "3.9.12 (main, Jun  1 2022, 11:38:51) \n[GCC 7.5.0]"
  },
  "orig_nbformat": 4,
  "vscode": {
   "interpreter": {
    "hash": "e428bc405edc59f3352e9792cab27c5e28560f7efb4b47308a6c6ea38cd15df2"
   }
  }
 },
 "nbformat": 4,
 "nbformat_minor": 2
}
