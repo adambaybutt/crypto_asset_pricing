{
 "cells": [
  {
   "cell_type": "code",
   "execution_count": 1,
   "metadata": {},
   "outputs": [],
   "source": [
    "import pandas as pd\n",
    "import pickle\n",
    "from helper_functions import Helper\n",
    "from helper_functions import Coinmetrics"
   ]
  },
  {
   "cell_type": "code",
   "execution_count": 2,
   "metadata": {},
   "outputs": [
    {
     "name": "stdout",
     "output_type": "stream",
     "text": [
      "Processing the 1th asset (50.00%): usdc\n",
      "Processing the 2th asset (100.00%): usdt\n",
      "Processing market #1 (10.00%): binance.us-1inch-usd-spot\n",
      "Processing market #2 (20.00%): binance.us-1inch-usdt-spot\n",
      "Processing market #3 (30.00%): binance.us-aave-usd-spot\n",
      "Processing market #4 (40.00%): binance.us-aave-usdt-spot\n",
      "Processing market #5 (50.00%): binance.us-ach-usd-spot\n",
      "Processing market #6 (60.00%): binance.us-ach-usdt-spot\n",
      "Processing market #7 (70.00%): binance.us-ada-usd-spot\n",
      "Processing market #8 (80.00%): binance.us-ada-usdc-spot\n",
      "Processing market #9 (90.00%): binance.us-ada-usdt-spot\n",
      "Processing market #10 (100.00%): binance.us-algo-usd-spot\n"
     ]
    },
    {
     "name": "stderr",
     "output_type": "stream",
     "text": [
      "The API call failed with error: HTTPSConnectionPool(host='api.coinmetrics.io', port=443): Read timed out. (read timeout=5)\n",
      "Retrying after 1.33 seconds.\n"
     ]
    },
    {
     "name": "stdout",
     "output_type": "stream",
     "text": [
      "Processing the 1th asset (33.33%): 1inch\n"
     ]
    },
    {
     "name": "stderr",
     "output_type": "stream",
     "text": [
      "The API call failed with error: 403 Client Error: Forbidden for url: https://api.coinmetrics.io/v4/timeseries/asset-metrics?api_key=hMkOUrQIV5EvIGiRyxZ9&page_size=10000&limit_per_asset=10000&end_inclusive=False&assets=1inch&metrics=AdrNewBalCnt&frequency=1d&start_time=2020-12-23&end_time=2021-01-01\n",
      "403 Forbidden Error - Will not retry\n",
      "The API call failed with error: 403 Client Error: Forbidden for url: https://api.coinmetrics.io/v4/timeseries/asset-metrics?api_key=hMkOUrQIV5EvIGiRyxZ9&page_size=10000&limit_per_asset=10000&end_inclusive=False&assets=1inch&metrics=AdrNewBalCnt&frequency=1d&start_time=2021-01-01&end_time=2021-08-18\n",
      "403 Forbidden Error - Will not retry\n"
     ]
    },
    {
     "name": "stdout",
     "output_type": "stream",
     "text": [
      "for 1inch AdrNewBalCnt, we have no data.\n"
     ]
    },
    {
     "name": "stderr",
     "output_type": "stream",
     "text": [
      "The API call failed with error: 403 Client Error: Forbidden for url: https://api.coinmetrics.io/v4/timeseries/asset-metrics?api_key=hMkOUrQIV5EvIGiRyxZ9&page_size=10000&limit_per_asset=10000&end_inclusive=False&assets=1inch&metrics=AdrNewCnt&frequency=1d&start_time=2020-12-23&end_time=2021-01-01\n",
      "403 Forbidden Error - Will not retry\n",
      "The API call failed with error: 403 Client Error: Forbidden for url: https://api.coinmetrics.io/v4/timeseries/asset-metrics?api_key=hMkOUrQIV5EvIGiRyxZ9&page_size=10000&limit_per_asset=10000&end_inclusive=False&assets=1inch&metrics=AdrNewCnt&frequency=1d&start_time=2021-01-01&end_time=2021-08-18\n",
      "403 Forbidden Error - Will not retry\n"
     ]
    },
    {
     "name": "stdout",
     "output_type": "stream",
     "text": [
      "for 1inch AdrNewCnt, we have no data.\n"
     ]
    },
    {
     "name": "stderr",
     "output_type": "stream",
     "text": [
      "The API call failed with error: 403 Client Error: Forbidden for url: https://api.coinmetrics.io/v4/timeseries/asset-metrics?api_key=hMkOUrQIV5EvIGiRyxZ9&page_size=10000&limit_per_asset=10000&end_inclusive=False&assets=1inch&metrics=ContBalCnt&frequency=1d&start_time=2020-12-23&end_time=2021-01-01\n",
      "403 Forbidden Error - Will not retry\n",
      "The API call failed with error: 403 Client Error: Forbidden for url: https://api.coinmetrics.io/v4/timeseries/asset-metrics?api_key=hMkOUrQIV5EvIGiRyxZ9&page_size=10000&limit_per_asset=10000&end_inclusive=False&assets=1inch&metrics=ContBalCnt&frequency=1d&start_time=2021-01-01&end_time=2021-03-02\n",
      "403 Forbidden Error - Will not retry\n"
     ]
    },
    {
     "name": "stdout",
     "output_type": "stream",
     "text": [
      "for 1inch ContBalCnt, we have no data.\n"
     ]
    },
    {
     "name": "stderr",
     "output_type": "stream",
     "text": [
      "The API call failed with error: 403 Client Error: Forbidden for url: https://api.coinmetrics.io/v4/timeseries/asset-metrics?api_key=hMkOUrQIV5EvIGiRyxZ9&page_size=10000&limit_per_asset=10000&end_inclusive=False&assets=1inch&metrics=ContCnt&frequency=1d&start_time=2020-12-23&end_time=2021-01-01\n",
      "403 Forbidden Error - Will not retry\n",
      "The API call failed with error: 403 Client Error: Forbidden for url: https://api.coinmetrics.io/v4/timeseries/asset-metrics?api_key=hMkOUrQIV5EvIGiRyxZ9&page_size=10000&limit_per_asset=10000&end_inclusive=False&assets=1inch&metrics=ContCnt&frequency=1d&start_time=2021-01-01&end_time=2021-03-02\n",
      "403 Forbidden Error - Will not retry\n"
     ]
    },
    {
     "name": "stdout",
     "output_type": "stream",
     "text": [
      "for 1inch ContCnt, we have no data.\n"
     ]
    },
    {
     "name": "stderr",
     "output_type": "stream",
     "text": [
      "The API call failed with error: HTTPSConnectionPool(host='api.coinmetrics.io', port=443): Read timed out. (read timeout=5)\n",
      "Retrying after 0.56 seconds.\n",
      "The API call failed with error: HTTPSConnectionPool(host='api.coinmetrics.io', port=443): Read timed out. (read timeout=5)\n",
      "Retrying after 0.71 seconds.\n"
     ]
    },
    {
     "name": "stdout",
     "output_type": "stream",
     "text": [
      "Processing the 2th asset (66.67%): aave\n"
     ]
    },
    {
     "name": "stderr",
     "output_type": "stream",
     "text": [
      "The API call failed with error: HTTPSConnectionPool(host='api.coinmetrics.io', port=443): Read timed out. (read timeout=5)\n",
      "Retrying after 1.01 seconds.\n",
      "The API call failed with error: HTTPSConnectionPool(host='api.coinmetrics.io', port=443): Read timed out. (read timeout=5)\n",
      "Retrying after 0.78 seconds.\n",
      "The API call failed with error: HTTPSConnectionPool(host='api.coinmetrics.io', port=443): Read timed out. (read timeout=5)\n",
      "Retrying after 0.67 seconds.\n",
      "The API call failed with error: 403 Client Error: Forbidden for url: https://api.coinmetrics.io/v4/timeseries/asset-metrics?api_key=hMkOUrQIV5EvIGiRyxZ9&page_size=10000&limit_per_asset=10000&end_inclusive=False&assets=aave&metrics=ContBalCnt&frequency=1d&start_time=2020-10-02&end_time=2021-01-01\n",
      "403 Forbidden Error - Will not retry\n",
      "The API call failed with error: 403 Client Error: Forbidden for url: https://api.coinmetrics.io/v4/timeseries/asset-metrics?api_key=hMkOUrQIV5EvIGiRyxZ9&page_size=10000&limit_per_asset=10000&end_inclusive=False&assets=aave&metrics=ContBalCnt&frequency=1d&start_time=2021-01-01&end_time=2021-03-02\n",
      "403 Forbidden Error - Will not retry\n"
     ]
    },
    {
     "name": "stdout",
     "output_type": "stream",
     "text": [
      "for aave ContBalCnt, we have no data.\n"
     ]
    },
    {
     "name": "stderr",
     "output_type": "stream",
     "text": [
      "The API call failed with error: 403 Client Error: Forbidden for url: https://api.coinmetrics.io/v4/timeseries/asset-metrics?api_key=hMkOUrQIV5EvIGiRyxZ9&page_size=10000&limit_per_asset=10000&end_inclusive=False&assets=aave&metrics=ContCnt&frequency=1d&start_time=2020-10-02&end_time=2021-01-01\n",
      "403 Forbidden Error - Will not retry\n",
      "The API call failed with error: 403 Client Error: Forbidden for url: https://api.coinmetrics.io/v4/timeseries/asset-metrics?api_key=hMkOUrQIV5EvIGiRyxZ9&page_size=10000&limit_per_asset=10000&end_inclusive=False&assets=aave&metrics=ContCnt&frequency=1d&start_time=2021-01-01&end_time=2021-03-02\n",
      "403 Forbidden Error - Will not retry\n"
     ]
    },
    {
     "name": "stdout",
     "output_type": "stream",
     "text": [
      "for aave ContCnt, we have no data.\n"
     ]
    },
    {
     "name": "stderr",
     "output_type": "stream",
     "text": [
      "The API call failed with error: HTTPSConnectionPool(host='api.coinmetrics.io', port=443): Read timed out. (read timeout=5)\n",
      "Retrying after 0.65 seconds.\n",
      "The API call failed with error: HTTPSConnectionPool(host='api.coinmetrics.io', port=443): Read timed out. (read timeout=5)\n",
      "Retrying after 0.81 seconds.\n"
     ]
    },
    {
     "name": "stdout",
     "output_type": "stream",
     "text": [
      "Processing the 3th asset (100.00%): aca\n"
     ]
    }
   ],
   "source": [
    "if __name__ == \"__main__\":\n",
    "    # set args\n",
    "    TARGET_METRICS = ['AdrActCnt', 'AdrActContCnt', 'AdrActRecCnt', 'AdrActSentCnt', 'AdrBalCnt',\n",
    "        'AdrBalUSD100Cnt', 'AdrBalUSD100KCnt', 'AdrBalUSD10Cnt', 'AdrBalUSD10KCnt', 'AdrBalUSD10MCnt',\n",
    "        'AdrBalUSD1Cnt', 'AdrBalUSD1KCnt', 'AdrBalUSD1MCnt', 'CapAct1yrUSD',\n",
    "        'CapFutExp10yrUSD', 'CapMVRVCur', 'CapMVRVFF', 'CapMrktCurUSD', 'CapMrktEstUSD', 'CapMrktFFUSD',\n",
    "        'CapRealUSD', 'ContERC1155Cnt', 'ContERC20Cnt', 'ContERC721Cnt',\n",
    "        'DiffMean', 'FeeMeanUSD', 'FeeMedUSD', 'FeeRevPct', 'FeeTotUSD', 'FlowInExInclUSD', 'FlowInExUSD',\n",
    "        'FlowMinerIn0HopAllUSD', 'FlowMinerIn1HopAllUSD', 'FlowMinerNet0HopAllUSD', 'FlowMinerNet1HopAllUSD',\n",
    "        'FlowMinerOut0HopAllUSD', 'FlowMinerOut1HopAllUSD', 'FlowOutExInclUSD', 'FlowOutExUSD', 'FlowTfrFromExCnt',\n",
    "        'FlowTfrFromExInclCnt', 'FlowTfrToExCnt', 'FlowTfrToExInclCnt', 'FlowToCLCont', 'GasUsedTx', 'GasUsedTxMean',\n",
    "        'HashRate', 'IssContNtv', 'IssContPctAnn', 'IssContPctDay', 'IssContUSD', 'IssTotUSD', 'MCRC', 'MCTC',\n",
    "        'MOMR', 'MRI0HopAll30d', 'MRI1HopAll30d', 'NDF', 'NVTAdj', 'NVTAdjFF', 'PriceUSD', 'PuellMulCont', 'PuellMulRev',\n",
    "        'PuellMulTot', 'RCTC', 'RVTAdj', 'ReferenceRateUSD', 'RevAllTimeUSD', 'RevHash1yAvgNtv', 'RevHash1yAvgUSD',\n",
    "        'RevHashUSD', 'RevUSD', 'SER', 'SOPR', 'SOPROut', 'SenderCntCLCont', 'SenderTotCLCont', 'SplyAct10yr',\n",
    "        'SplyAct180d', 'SplyAct1d', 'SplyAct1yr', 'SplyAct2yr', 'SplyAct30d', 'SplyAct3yr', 'SplyAct4yr', 'SplyAct5yr',\n",
    "        'SplyAct7d', 'SplyAct90d', 'SplyActEver', 'SplyActPct1yr', 'SplyAdrBalUSD1', 'SplyAdrBalUSD10',\n",
    "        'SplyAdrBalUSD100', 'SplyAdrBalUSD100K', 'SplyAdrBalUSD10K', 'SplyAdrBalUSD10M', 'SplyAdrBalUSD1K',\n",
    "        'SplyAdrBalUSD1M', 'SplyAdrTop100', 'SplyAdrTop10Pct', 'SplyAdrTop1Pct', 'SplyBurntUSD', 'SplyContUSD',\n",
    "        'SplyCur', 'SplyExUSD', 'SplyExpFut10yr', 'SplyFF', 'SplyMiner0HopAllUSD', 'SplyMiner1HopAllUSD',\n",
    "        'SplyRvv180d', 'SplyRvv1yr', 'SplyRvv2yr', 'SplyRvv30d', 'SplyRvv3yr', 'SplyRvv4yr', 'SplyRvv5yr', \n",
    "        'SplyRvv7d', 'SplyRvv90d', 'SplyUTXOLoss', 'SplyUTXOProf', 'TxCnt', 'TxTfrCnt', 'TxTfrValAdjUSD',    \n",
    "        'TxTfrValContCallUSD', 'TxTfrValDayDst', 'TxTfrValDayDstMean', 'TxTfrValMeanUSD', 'TxTfrValMedUSD',\n",
    "        'TxTfrValNtv', 'TxTfrValRecNtv', 'TxTfrValSentNtv', 'TxTfrValUSD', 'UTXOAgeMean', 'UTXOAgeMed', \n",
    "        'UTXOAgeValMean', 'UTXOCnt', 'UTXODay', 'UTXOLossCnt', 'UTXOLossUnrealUSD', 'UTXOProfCnt',\n",
    "        'UTXOProfUnrealUSD', 'VelAct1yr', 'VelCur1yr', 'WalActCnt', 'WalActRecCnt', 'WalActSentCnt', 'WalBalCnt',\n",
    "        'mempool_count', 'mempool_fee', 'mempool_fee_mean', 'mempool_fee_median', 'mempool_feerate_mean',  \n",
    "        'mempool_feerate_median', 'mempool_output_value', 'mempool_size', 'mempool_vsize', \n",
    "        'mining_reward_mean', 'mining_reward_spread']\n",
    "    CW_IN_FP = '../data/derived/cm_to_coinapi_cw.pkl'\n",
    "    ASSET_IN_FP = '../data/clean/asset_universe_dict.pickle'\n",
    "    CM_API_FP = '../../admin/coinmetrics.txt'\n",
    "    BASE_URL = 'https://api.coinmetrics.io/v4/'\n",
    "    PANEL_OUT_FP = '../data/raw/coinmetrics_panel_hourly.pkl'\n",
    "    TARGET_US_EXCHANGES = ['binance.us',  'bitstamp', 'coinbase', 'crypto.com', 'ftx.us', \n",
    "        'gemini', 'kraken', 'kucoin']\n",
    "    TARGET_FREQ = '1h'\n",
    "    STUDY_START = '2016-07-01'\n",
    "    STUDY_END = '2023-01-03'\n",
    "    \n",
    "    # import api key\n",
    "    with open(CM_API_FP) as f:\n",
    "        API_KEY = f.readlines()\n",
    "        API_KEY = API_KEY[0].strip()\n",
    "    BASE_PARAMS = {'api_key': API_KEY}\n",
    "\n",
    "    # Import asset universe and cw\n",
    "    cw_df = pd.read_pickle(CW_IN_FP)\n",
    "    with open(ASSET_IN_FP, \"rb\") as f:\n",
    "        asset_universe_dict = pickle.load(f)\n",
    "    asset_universe = Helper.findUniqueAssets(asset_universe_dict)\n",
    "\n",
    "    # Pull info on assets\n",
    "    assets_df = Coinmetrics.pullAssetInfo(BASE_URL, BASE_PARAMS, asset_universe+['usdt', 'usdc'])\n",
    "\n",
    "    # pull meta data on target exchanges\n",
    "    exchanges_df = Coinmetrics.pullExchangeInfo(BASE_URL, BASE_PARAMS, TARGET_US_EXCHANGES)\n",
    "\n",
    "    # pull meta data markets and subset down to target markets\n",
    "    markets_df = Coinmetrics.pullAndFormRelevantMarkets(exchanges_df, assets_df, BASE_URL, BASE_PARAMS, asset_universe)\n",
    "\n",
    "    # pull reference rates for USDC and USDT to use for exchange rate calculations\n",
    "    usd_df = Coinmetrics.pullAssetMetrics(BASE_URL, BASE_PARAMS, assets_df, STUDY_START, STUDY_END, \n",
    "                                          TARGET_FREQ, ['usdc', 'usdt'], ['ReferenceRateUSD'])\n",
    "    usd_df = Coinmetrics.cleanUSDPrices(usd_df, TARGET_FREQ)\n",
    "\n",
    "    # pull prices and volumes for all markets of interest\n",
    "    ohlcv_df = Coinmetrics.pullOHLCV(BASE_URL, BASE_PARAMS, STUDY_START, STUDY_END, TARGET_FREQ, markets_df[:10])\n",
    "    ohlcv_df = Coinmetrics.cleanOHLCV(ohlcv_df, TARGET_FREQ, markets_df, usd_df)\n",
    "    # TODO DROP THE MARKETS_DF SUBSET ABOVE\n",
    "\n",
    "    # pull asset metrics\n",
    "    panel_df = Coinmetrics.pullAssetMetrics(BASE_URL, BASE_PARAMS, assets_df, STUDY_START, STUDY_END,\n",
    "                                            TARGET_FREQ, asset_universe[:3], TARGET_METRICS[:10])\n",
    "    panel_df = Coinmetrics.cleanPanel(panel_df)\n",
    "    # TODO DROP THE ASSET UNIVERSE AND TARGET METRICS SUBSETS ABOVE\n",
    "    panel_df = panel_df.merge(ohlcv_df, on=['date', 'asset'], how='outer', validate='one_to_one')\n",
    "    \n"
   ]
  },
  {
   "cell_type": "code",
   "execution_count": 3,
   "metadata": {},
   "outputs": [
    {
     "data": {
      "text/html": [
       "<div>\n",
       "<style scoped>\n",
       "    .dataframe tbody tr th:only-of-type {\n",
       "        vertical-align: middle;\n",
       "    }\n",
       "\n",
       "    .dataframe tbody tr th {\n",
       "        vertical-align: top;\n",
       "    }\n",
       "\n",
       "    .dataframe thead th {\n",
       "        text-align: right;\n",
       "    }\n",
       "</style>\n",
       "<table border=\"1\" class=\"dataframe\">\n",
       "  <thead>\n",
       "    <tr style=\"text-align: right;\">\n",
       "      <th></th>\n",
       "      <th>asset</th>\n",
       "      <th>full_name</th>\n",
       "      <th>exchanges</th>\n",
       "      <th>markets</th>\n",
       "      <th>metrics</th>\n",
       "    </tr>\n",
       "  </thead>\n",
       "  <tbody>\n",
       "    <tr>\n",
       "      <th>0</th>\n",
       "      <td>1inch</td>\n",
       "      <td>1inch</td>\n",
       "      <td>[bibox, binance, binance.us, bitfinex, bitstam...</td>\n",
       "      <td>[bibox-1inch-usdt-spot, binance-1INCHUSDT-futu...</td>\n",
       "      <td>[{'metric': 'AdrAct30dCnt', 'frequencies': [{'...</td>\n",
       "    </tr>\n",
       "  </tbody>\n",
       "</table>\n",
       "</div>"
      ],
      "text/plain": [
       "   asset full_name                                          exchanges  \\\n",
       "0  1inch     1inch  [bibox, binance, binance.us, bitfinex, bitstam...   \n",
       "\n",
       "                                             markets  \\\n",
       "0  [bibox-1inch-usdt-spot, binance-1INCHUSDT-futu...   \n",
       "\n",
       "                                             metrics  \n",
       "0  [{'metric': 'AdrAct30dCnt', 'frequencies': [{'...  "
      ]
     },
     "execution_count": 3,
     "metadata": {},
     "output_type": "execute_result"
    }
   ],
   "source": [
    "assets_df.head(1)"
   ]
  },
  {
   "cell_type": "code",
   "execution_count": 4,
   "metadata": {},
   "outputs": [
    {
     "data": {
      "text/html": [
       "<div>\n",
       "<style scoped>\n",
       "    .dataframe tbody tr th:only-of-type {\n",
       "        vertical-align: middle;\n",
       "    }\n",
       "\n",
       "    .dataframe tbody tr th {\n",
       "        vertical-align: top;\n",
       "    }\n",
       "\n",
       "    .dataframe thead th {\n",
       "        text-align: right;\n",
       "    }\n",
       "</style>\n",
       "<table border=\"1\" class=\"dataframe\">\n",
       "  <thead>\n",
       "    <tr style=\"text-align: right;\">\n",
       "      <th></th>\n",
       "      <th>exchange</th>\n",
       "      <th>markets</th>\n",
       "      <th>min_time</th>\n",
       "      <th>max_time</th>\n",
       "      <th>metrics</th>\n",
       "    </tr>\n",
       "  </thead>\n",
       "  <tbody>\n",
       "    <tr>\n",
       "      <th>0</th>\n",
       "      <td>binance.us</td>\n",
       "      <td>[binance.us-123-456-spot, binance.us-1inch-usd...</td>\n",
       "      <td>2019-09-04T13:06:51.554000000Z</td>\n",
       "      <td>2023-03-20T22:16:51.425000000Z</td>\n",
       "      <td>[{'metric': 'volume_reported_spot_usd_1d', 'fr...</td>\n",
       "    </tr>\n",
       "  </tbody>\n",
       "</table>\n",
       "</div>"
      ],
      "text/plain": [
       "     exchange                                            markets  \\\n",
       "0  binance.us  [binance.us-123-456-spot, binance.us-1inch-usd...   \n",
       "\n",
       "                         min_time                        max_time  \\\n",
       "0  2019-09-04T13:06:51.554000000Z  2023-03-20T22:16:51.425000000Z   \n",
       "\n",
       "                                             metrics  \n",
       "0  [{'metric': 'volume_reported_spot_usd_1d', 'fr...  "
      ]
     },
     "execution_count": 4,
     "metadata": {},
     "output_type": "execute_result"
    }
   ],
   "source": [
    "exchanges_df.head(1)"
   ]
  },
  {
   "cell_type": "code",
   "execution_count": 5,
   "metadata": {},
   "outputs": [
    {
     "data": {
      "text/html": [
       "<div>\n",
       "<style scoped>\n",
       "    .dataframe tbody tr th:only-of-type {\n",
       "        vertical-align: middle;\n",
       "    }\n",
       "\n",
       "    .dataframe tbody tr th {\n",
       "        vertical-align: top;\n",
       "    }\n",
       "\n",
       "    .dataframe thead th {\n",
       "        text-align: right;\n",
       "    }\n",
       "</style>\n",
       "<table border=\"1\" class=\"dataframe\">\n",
       "  <thead>\n",
       "    <tr style=\"text-align: right;\">\n",
       "      <th></th>\n",
       "      <th>market</th>\n",
       "      <th>exchange</th>\n",
       "      <th>base</th>\n",
       "      <th>quote</th>\n",
       "      <th>min_time</th>\n",
       "      <th>max_time</th>\n",
       "    </tr>\n",
       "  </thead>\n",
       "  <tbody>\n",
       "    <tr>\n",
       "      <th>0</th>\n",
       "      <td>binance.us-1inch-usd-spot</td>\n",
       "      <td>binance.us</td>\n",
       "      <td>1inch</td>\n",
       "      <td>usd</td>\n",
       "      <td>2021-12-10T01:00:00.000000000Z</td>\n",
       "      <td>2023-03-20T22:16:10.000000000Z</td>\n",
       "    </tr>\n",
       "  </tbody>\n",
       "</table>\n",
       "</div>"
      ],
      "text/plain": [
       "                      market    exchange   base quote  \\\n",
       "0  binance.us-1inch-usd-spot  binance.us  1inch   usd   \n",
       "\n",
       "                         min_time                        max_time  \n",
       "0  2021-12-10T01:00:00.000000000Z  2023-03-20T22:16:10.000000000Z  "
      ]
     },
     "execution_count": 5,
     "metadata": {},
     "output_type": "execute_result"
    }
   ],
   "source": [
    "markets_df.head(1)"
   ]
  },
  {
   "cell_type": "code",
   "execution_count": 6,
   "metadata": {},
   "outputs": [
    {
     "data": {
      "text/html": [
       "<div>\n",
       "<style scoped>\n",
       "    .dataframe tbody tr th:only-of-type {\n",
       "        vertical-align: middle;\n",
       "    }\n",
       "\n",
       "    .dataframe tbody tr th {\n",
       "        vertical-align: top;\n",
       "    }\n",
       "\n",
       "    .dataframe thead th {\n",
       "        text-align: right;\n",
       "    }\n",
       "</style>\n",
       "<table border=\"1\" class=\"dataframe\">\n",
       "  <thead>\n",
       "    <tr style=\"text-align: right;\">\n",
       "      <th></th>\n",
       "      <th>date</th>\n",
       "      <th>usd_per_usdc</th>\n",
       "      <th>usd_per_usdt</th>\n",
       "    </tr>\n",
       "  </thead>\n",
       "  <tbody>\n",
       "    <tr>\n",
       "      <th>0</th>\n",
       "      <td>2016-07-01</td>\n",
       "      <td>NaN</td>\n",
       "      <td>1.00326</td>\n",
       "    </tr>\n",
       "  </tbody>\n",
       "</table>\n",
       "</div>"
      ],
      "text/plain": [
       "        date  usd_per_usdc  usd_per_usdt\n",
       "0 2016-07-01           NaN       1.00326"
      ]
     },
     "execution_count": 6,
     "metadata": {},
     "output_type": "execute_result"
    }
   ],
   "source": [
    "usd_df.head(1)"
   ]
  },
  {
   "cell_type": "code",
   "execution_count": 7,
   "metadata": {},
   "outputs": [
    {
     "data": {
      "text/html": [
       "<div>\n",
       "<style scoped>\n",
       "    .dataframe tbody tr th:only-of-type {\n",
       "        vertical-align: middle;\n",
       "    }\n",
       "\n",
       "    .dataframe tbody tr th {\n",
       "        vertical-align: top;\n",
       "    }\n",
       "\n",
       "    .dataframe thead th {\n",
       "        text-align: right;\n",
       "    }\n",
       "</style>\n",
       "<table border=\"1\" class=\"dataframe\">\n",
       "  <thead>\n",
       "    <tr style=\"text-align: right;\">\n",
       "      <th></th>\n",
       "      <th>date</th>\n",
       "      <th>asset</th>\n",
       "      <th>usd_per_token_cm</th>\n",
       "      <th>usd_volume_cm</th>\n",
       "      <th>trades_cm</th>\n",
       "    </tr>\n",
       "  </thead>\n",
       "  <tbody>\n",
       "    <tr>\n",
       "      <th>0</th>\n",
       "      <td>2021-08-20</td>\n",
       "      <td>aave</td>\n",
       "      <td>411.115173</td>\n",
       "      <td>443917.96875</td>\n",
       "      <td>944.0</td>\n",
       "    </tr>\n",
       "  </tbody>\n",
       "</table>\n",
       "</div>"
      ],
      "text/plain": [
       "        date asset  usd_per_token_cm  usd_volume_cm  trades_cm\n",
       "0 2021-08-20  aave        411.115173   443917.96875      944.0"
      ]
     },
     "execution_count": 7,
     "metadata": {},
     "output_type": "execute_result"
    }
   ],
   "source": [
    "ohlcv_df.head(1)"
   ]
  },
  {
   "cell_type": "code",
   "execution_count": null,
   "metadata": {},
   "outputs": [],
   "source": [
    "# TODO move functions to the helper function call\n",
    "\n",
    "# TODO adjust the OG script to see if they work for it too"
   ]
  },
  {
   "cell_type": "code",
   "execution_count": null,
   "metadata": {},
   "outputs": [],
   "source": [
    "# TODO FOR TARGET EXCHANGES AS WELL AS A FEW OTHER MAJORS pull all the available exchange metrics for my study period\n",
    "# -scope supported metrics for all my markets to see if anythign else interesting to pull\n",
    "# -pull metrics from exchanges_df as well as start adn end dates to pull all teh data\n",
    "# -try to get inflows and outflows?\n",
    "# -pull open interest in futures? maybe as macro variable but lets see if i can get for a bunch of assets\n",
    "# -scope the endpoint below to see if there are more exchange metrics that i am missing\n",
    "# curl \"https://api.coinmetrics.io/v4/catalog/exchange-metrics?pretty=true&api_key=<your_key>\"\n",
    "# MAYBE ALSO JUST GET THREE OTHER MAJOR EXCHAGNES\n",
    "\n",
    "# TODO: pull defi balance sheets\n",
    "\n",
    "# TODO: taxonomy?"
   ]
  },
  {
   "cell_type": "code",
   "execution_count": null,
   "metadata": {},
   "outputs": [],
   "source": [
    "# TODO PUlL BEST BID AND ASK FOR ALL THOSE MARKETS AT HOURLY FREQ \n",
    "# - \"timeseries/market-quotes\"\n",
    "# -problem is can't specify frequency\n",
    "\n",
    "base_url = BASE_URL\n",
    "base_params = BASE_PARAMS\n",
    "\n",
    "target_url = \"timeseries/market-quotes\"\n",
    "url = f\"{base_url}{target_url}\"\n",
    "\n",
    "params = base_params.copy()\n",
    "params['start_time'] = '2021-09-30'\n",
    "params['end_time'] = '2021-10-30'\n",
    "params['markets'] = 'coinbase-btc-usd-spot'\n",
    "params['page_size'] = 10000\n",
    "params['end_inclusive'] = False\n",
    "\n",
    "response_json = Helper.makeApiCall(url, headers={}, params=params)\n",
    "\n",
    "df = pd.DataFrame(response_json['data'])\n",
    "\n",
    "# TODO THIS IS GOING TO TAKE 3-4 DAYS TO RUN"
   ]
  }
 ],
 "metadata": {
  "kernelspec": {
   "display_name": "tf",
   "language": "python",
   "name": "python3"
  },
  "language_info": {
   "codemirror_mode": {
    "name": "ipython",
    "version": 3
   },
   "file_extension": ".py",
   "mimetype": "text/x-python",
   "name": "python",
   "nbconvert_exporter": "python",
   "pygments_lexer": "ipython3",
   "version": "3.10.9"
  },
  "orig_nbformat": 4,
  "vscode": {
   "interpreter": {
    "hash": "e428bc405edc59f3352e9792cab27c5e28560f7efb4b47308a6c6ea38cd15df2"
   }
  }
 },
 "nbformat": 4,
 "nbformat_minor": 2
}
