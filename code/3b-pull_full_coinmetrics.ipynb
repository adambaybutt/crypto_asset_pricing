{
 "cells": [
  {
   "cell_type": "code",
   "execution_count": 1,
   "metadata": {},
   "outputs": [],
   "source": [
    "import pandas as pd\n",
    "import pickle\n",
    "from helper_functions import Helper\n",
    "from helper_functions import Coinmetrics"
   ]
  },
  {
   "cell_type": "code",
   "execution_count": null,
   "metadata": {},
   "outputs": [],
   "source": [
    "if __name__ == \"__main__\":\n",
    "    # set args\n",
    "    CW_IN_FP = '../data/derived/cm_to_coinapi_cw.pkl'\n",
    "    ASSET_IN_FP = '../data/clean/asset_universe_dict.pickle'\n",
    "    CM_API_FP = '../../admin/coinmetrics.txt'\n",
    "    BASE_URL = 'https://api.coinmetrics.io/v4/'\n",
    "    PANEL_OUT_FP = '../data/raw/coinmetrics_panel_hourly.pkl'\n",
    "    MACRO_OUT_FP = '../data/raw/coinmetrics_macro_hourly.pkl'\n",
    "    TARGET_US_EXCHANGES = ['binance.us',  'bitstamp', 'coinbase', 'crypto.com', 'ftx.us', \n",
    "        'gemini', 'kraken', 'kucoin']\n",
    "    TARGET_EXCHANGE_METRICS = ['open_interest_reported_future_usd', 'volume_reported_future_usd_1h', 'volume_reported_spot_usd_1h']\n",
    "    TARGET_FREQ = '1h'\n",
    "    STUDY_START = '2016-07-01'\n",
    "    STUDY_END = '2023-01-03'\n",
    "    TARGET_METRICS = ['AdrActCnt', 'AdrActContCnt', 'AdrActRecCnt', 'AdrActSentCnt', 'AdrBalCnt',\n",
    "        'AdrBalUSD100Cnt', 'AdrBalUSD100KCnt', 'AdrBalUSD10Cnt', 'AdrBalUSD10KCnt', 'AdrBalUSD10MCnt',\n",
    "        'AdrBalUSD1Cnt', 'AdrBalUSD1KCnt', 'AdrBalUSD1MCnt', 'CapAct1yrUSD',\n",
    "        'CapFutExp10yrUSD', 'CapMVRVCur', 'CapMVRVFF', 'CapMrktCurUSD', 'CapMrktEstUSD', 'CapMrktFFUSD',\n",
    "        'CapRealUSD', 'ContERC1155Cnt', 'ContERC20Cnt', 'ContERC721Cnt',\n",
    "        'DiffMean', 'FeeMeanUSD', 'FeeMedUSD', 'FeeRevPct', 'FeeTotUSD', 'FlowInExInclUSD', 'FlowInExUSD',\n",
    "        'FlowMinerIn0HopAllUSD', 'FlowMinerIn1HopAllUSD', 'FlowMinerNet0HopAllUSD', 'FlowMinerNet1HopAllUSD',\n",
    "        'FlowMinerOut0HopAllUSD', 'FlowMinerOut1HopAllUSD', 'FlowOutExInclUSD', 'FlowOutExUSD', 'FlowTfrFromExCnt',\n",
    "        'FlowTfrFromExInclCnt', 'FlowTfrToExCnt', 'FlowTfrToExInclCnt', 'FlowToCLCont', 'GasUsedTx', 'GasUsedTxMean',\n",
    "        'HashRate', 'IssContNtv', 'IssContPctAnn', 'IssContPctDay', 'IssContUSD', 'IssTotUSD', 'MCRC', 'MCTC',\n",
    "        'MOMR', 'MRI0HopAll30d', 'MRI1HopAll30d', 'NDF', 'NVTAdj', 'NVTAdjFF', 'PriceUSD', 'PuellMulCont', 'PuellMulRev',\n",
    "        'PuellMulTot', 'RCTC', 'RVTAdj', 'ReferenceRateUSD', 'RevAllTimeUSD', 'RevHash1yAvgNtv', 'RevHash1yAvgUSD',\n",
    "        'RevHashUSD', 'RevUSD', 'SER', 'SOPR', 'SOPROut', 'SenderCntCLCont', 'SenderTotCLCont', 'SplyAct10yr',\n",
    "        'SplyAct180d', 'SplyAct1d', 'SplyAct1yr', 'SplyAct2yr', 'SplyAct30d', 'SplyAct3yr', 'SplyAct4yr', 'SplyAct5yr',\n",
    "        'SplyAct7d', 'SplyAct90d', 'SplyActEver', 'SplyActPct1yr', 'SplyAdrBalUSD1', 'SplyAdrBalUSD10',\n",
    "        'SplyAdrBalUSD100', 'SplyAdrBalUSD100K', 'SplyAdrBalUSD10K', 'SplyAdrBalUSD10M', 'SplyAdrBalUSD1K',\n",
    "        'SplyAdrBalUSD1M', 'SplyAdrTop100', 'SplyAdrTop10Pct', 'SplyAdrTop1Pct', 'SplyBurntUSD', 'SplyContUSD',\n",
    "        'SplyCur', 'SplyExUSD', 'SplyExpFut10yr', 'SplyFF', 'SplyMiner0HopAllUSD', 'SplyMiner1HopAllUSD',\n",
    "        'SplyRvv180d', 'SplyRvv1yr', 'SplyRvv2yr', 'SplyRvv30d', 'SplyRvv3yr', 'SplyRvv4yr', 'SplyRvv5yr', \n",
    "        'SplyRvv7d', 'SplyRvv90d', 'SplyUTXOLoss', 'SplyUTXOProf', 'TxCnt', 'TxTfrCnt', 'TxTfrValAdjUSD',    \n",
    "        'TxTfrValContCallUSD', 'TxTfrValDayDst', 'TxTfrValDayDstMean', 'TxTfrValMeanUSD', 'TxTfrValMedUSD',\n",
    "        'TxTfrValNtv', 'TxTfrValRecNtv', 'TxTfrValSentNtv', 'TxTfrValUSD', 'UTXOAgeMean', 'UTXOAgeMed', \n",
    "        'UTXOAgeValMean', 'UTXOCnt', 'UTXODay', 'UTXOLossCnt', 'UTXOLossUnrealUSD', 'UTXOProfCnt',\n",
    "        'UTXOProfUnrealUSD', 'VelAct1yr', 'VelCur1yr', 'WalActCnt', 'WalActRecCnt', 'WalActSentCnt', 'WalBalCnt',\n",
    "        'mempool_count', 'mempool_fee', 'mempool_fee_mean', 'mempool_fee_median', 'mempool_feerate_mean',  \n",
    "        'mempool_feerate_median', 'mempool_output_value', 'mempool_size', 'mempool_vsize', \n",
    "        'mining_reward_mean', 'mining_reward_spread']\n",
    "    \n",
    "    # import api key\n",
    "    with open(CM_API_FP) as f:\n",
    "        API_KEY = f.readlines()\n",
    "        API_KEY = API_KEY[0].strip()\n",
    "    BASE_PARAMS = {'api_key': API_KEY}\n",
    "\n",
    "    # Import asset universe and cw\n",
    "    cw_df = pd.read_pickle(CW_IN_FP)\n",
    "    with open(ASSET_IN_FP, \"rb\") as f:\n",
    "        asset_universe_dict = pickle.load(f)\n",
    "    asset_universe = Helper.findUniqueAssets(asset_universe_dict)\n",
    "\n",
    "    # Pull info on assets\n",
    "    assets_df = Coinmetrics.pullAssetInfo(BASE_URL, BASE_PARAMS, asset_universe+['usdt', 'usdc'])\n",
    "\n",
    "    # pull meta data on target exchanges\n",
    "    exchanges_df = Coinmetrics.pullExchangeInfo(BASE_URL, BASE_PARAMS, TARGET_US_EXCHANGES)\n",
    "\n",
    "    # pull meta data markets and subset down to target markets\n",
    "    markets_df = Coinmetrics.pullAndFormRelevantMarkets(exchanges_df, assets_df, BASE_URL, BASE_PARAMS, asset_universe)\n",
    "\n",
    "    # pull reference rates for USDC and USDT to use for exchange rate calculations\n",
    "    usd_df = Coinmetrics.pullAssetMetrics(BASE_URL, BASE_PARAMS, assets_df, STUDY_START, STUDY_END, \n",
    "        TARGET_FREQ, ['usdc', 'usdt'], ['ReferenceRateUSD'])\n",
    "    usd_df = Coinmetrics.cleanUSDPrices(usd_df, TARGET_FREQ)\n",
    "\n",
    "    # pull prices and volumes for all markets of interest\n",
    "    ohlcv_df = Coinmetrics.pullOHLCV(BASE_URL, BASE_PARAMS, STUDY_START, STUDY_END, TARGET_FREQ, markets_df)\n",
    "\n",
    "    # pull asset metrics\n",
    "    panel_df = Coinmetrics.pullAssetMetrics(BASE_URL, BASE_PARAMS, assets_df, STUDY_START, STUDY_END,\n",
    "                                            TARGET_FREQ, asset_universe, TARGET_METRICS)\n",
    "    panel_df = Coinmetrics.cleanPanel(panel_df)\n",
    "\n",
    "    # pull exchange metrics\n",
    "    ex_metrics_df = Coinmetrics.pullExchangeMetrics(BASE_URL, BASE_PARAMS, TARGET_EXCHANGE_METRICS, \n",
    "        STUDY_START, STUDY_END, TARGET_FREQ)\n",
    "    ex_metrics_df = Coinmetrics.cleanExchangeMetrics(ex_metrics_df, TARGET_EXCHANGE_METRICS, TARGET_US_EXCHANGES)\n",
    "\n",
    "    # form macro dataframe\n",
    "    macro_df = usd_df.merge(ex_metrics_df, on=['date'], how='outer', validate='one_to_one')\n",
    "    macro_df.to_pickle(MACRO_OUT_FP)\n",
    "\n",
    "    # form the panel\n",
    "    # prices_df = Coinmetrics.cleanMarketPanels(ohlcv_df, TARGET_FREQ, markets_df, usd_df, ba_df)\n",
    "    # panel_df = panel_df.merge(prices_df, on=['date', 'asset'], how='outer', validate='one_to_one')\n",
    "    # panel_df = panel_df.sort_values(by=['date', 'asset'], ignore_index=True)\n",
    "    # panel_df.to_pickle(PANEL_OUT_FP)\n",
    "    # TODO UNCOMMENT 4 LINES ABOVE BEFORE FINAL SAVE"
   ]
  },
  {
   "cell_type": "code",
   "execution_count": 28,
   "metadata": {},
   "outputs": [],
   "source": [
    "# TODO pull bid ask prices\n"
   ]
  },
  {
   "cell_type": "code",
   "execution_count": 30,
   "metadata": {},
   "outputs": [
    {
     "name": "stderr",
     "output_type": "stream",
     "text": [
      "The API call failed with error: 429 Client Error: Too Many Requests for url: https://api.coinmetrics.io/v4/timeseries/market-quotes?api_key=hMkOUrQIV5EvIGiRyxZ9&page_size=10000&limit_per_market=10000&end_inclusive=False&markets=binance.us-ach-usdt-spot&start_time=2022-10-24&end_time=2022-10-25\n",
      "Retrying after 1.11 seconds.\n"
     ]
    }
   ],
   "source": [
    "# TODO 1\n",
    "markets_df = master_markets_df.copy()\n",
    "end   = int(1*markets_df.shape[0]/10)\n",
    "markets_df = markets_df[:end]\n",
    "ba_df = Coinmetrics.pullBidAsk(BASE_URL, BASE_PARAMS, STUDY_START, STUDY_END, markets_df)\n",
    "ba_df.to_pickle('temp_ba_1.pkl')\n",
    "del ba_df\n",
    "import gc\n",
    "gc.collect()"
   ]
  },
  {
   "cell_type": "code",
   "execution_count": null,
   "metadata": {},
   "outputs": [],
   "source": [
    "import time\n",
    "time.sleep(60*5)"
   ]
  },
  {
   "cell_type": "code",
   "execution_count": null,
   "metadata": {},
   "outputs": [],
   "source": [
    "# TODO 2\n",
    "markets_df = master_markets_df.copy()\n",
    "start = int(1*markets_df.shape[0]/10)\n",
    "end   = int(2*markets_df.shape[0]/10)\n",
    "markets_df = markets_df[start:end]\n",
    "ba_df = Coinmetrics.pullBidAsk(BASE_URL, BASE_PARAMS, STUDY_START, STUDY_END, markets_df)\n",
    "ba_df.to_pickle('temp_ba_2.pkl')\n",
    "del ba_df\n",
    "gc.collect()"
   ]
  },
  {
   "cell_type": "code",
   "execution_count": null,
   "metadata": {},
   "outputs": [],
   "source": [
    "\n",
    "time.sleep(60*5)"
   ]
  },
  {
   "cell_type": "code",
   "execution_count": null,
   "metadata": {},
   "outputs": [],
   "source": [
    "# TODO 3\n",
    "markets_df = master_markets_df.copy()\n",
    "start = int(2*markets_df.shape[0]/10)\n",
    "end   = int(3*markets_df.shape[0]/10)\n",
    "markets_df = markets_df[start:end]\n",
    "ba_df = Coinmetrics.pullBidAsk(BASE_URL, BASE_PARAMS, STUDY_START, STUDY_END, markets_df)\n",
    "ba_df.to_pickle('temp_ba_3.pkl')\n",
    "del ba_df\n",
    "gc.collect()"
   ]
  },
  {
   "cell_type": "code",
   "execution_count": null,
   "metadata": {},
   "outputs": [],
   "source": [
    "\n",
    "time.sleep(60*5)"
   ]
  },
  {
   "cell_type": "code",
   "execution_count": null,
   "metadata": {},
   "outputs": [],
   "source": [
    "# TODO 4\n",
    "markets_df = master_markets_df.copy()\n",
    "start = int(3*markets_df.shape[0]/10)\n",
    "end   = int(4*markets_df.shape[0]/10)\n",
    "markets_df = markets_df[start:end]\n",
    "ba_df = Coinmetrics.pullBidAsk(BASE_URL, BASE_PARAMS, STUDY_START, STUDY_END, markets_df)\n",
    "ba_df.to_pickle('temp_ba_4.pkl')\n",
    "del ba_df\n",
    "gc.collect()"
   ]
  },
  {
   "cell_type": "code",
   "execution_count": null,
   "metadata": {},
   "outputs": [],
   "source": [
    "\n",
    "time.sleep(60*5)"
   ]
  },
  {
   "cell_type": "code",
   "execution_count": null,
   "metadata": {},
   "outputs": [],
   "source": [
    "# TODO 5\n",
    "markets_df = master_markets_df.copy()\n",
    "start = int(4*markets_df.shape[0]/10)\n",
    "end   = int(5*markets_df.shape[0]/10)\n",
    "markets_df = markets_df[start:end]\n",
    "ba_df = Coinmetrics.pullBidAsk(BASE_URL, BASE_PARAMS, STUDY_START, STUDY_END, markets_df)\n",
    "ba_df.to_pickle('temp_ba_5.pkl')\n",
    "del ba_df\n",
    "gc.collect()"
   ]
  },
  {
   "cell_type": "code",
   "execution_count": null,
   "metadata": {},
   "outputs": [],
   "source": [
    "\n",
    "time.sleep(60*5)"
   ]
  },
  {
   "cell_type": "code",
   "execution_count": null,
   "metadata": {},
   "outputs": [],
   "source": [
    "# TODO 6\n",
    "markets_df = master_markets_df.copy()\n",
    "start = int(5*markets_df.shape[0]/10)\n",
    "end   = int(6*markets_df.shape[0]/10)\n",
    "markets_df = markets_df[start:end]\n",
    "ba_df = Coinmetrics.pullBidAsk(BASE_URL, BASE_PARAMS, STUDY_START, STUDY_END, markets_df)\n",
    "ba_df.to_pickle('temp_ba_6.pkl')\n",
    "del ba_df\n",
    "gc.collect()"
   ]
  },
  {
   "cell_type": "code",
   "execution_count": null,
   "metadata": {},
   "outputs": [],
   "source": [
    "\n",
    "time.sleep(60*5)"
   ]
  },
  {
   "cell_type": "code",
   "execution_count": null,
   "metadata": {},
   "outputs": [],
   "source": [
    "# TODO 7\n",
    "markets_df = master_markets_df.copy()\n",
    "start = int(6*markets_df.shape[0]/10)\n",
    "end   = int(7*markets_df.shape[0]/10)\n",
    "markets_df = markets_df[start:end]\n",
    "ba_df = Coinmetrics.pullBidAsk(BASE_URL, BASE_PARAMS, STUDY_START, STUDY_END, markets_df)\n",
    "ba_df.to_pickle('temp_ba_7.pkl')\n",
    "del ba_df\n",
    "gc.collect()"
   ]
  },
  {
   "cell_type": "code",
   "execution_count": null,
   "metadata": {},
   "outputs": [],
   "source": [
    "\n",
    "time.sleep(60*5)"
   ]
  },
  {
   "cell_type": "code",
   "execution_count": null,
   "metadata": {},
   "outputs": [],
   "source": [
    "# TODO 8\n",
    "markets_df = master_markets_df.copy()\n",
    "start = int(7*markets_df.shape[0]/10)\n",
    "end   = int(8*markets_df.shape[0]/10)\n",
    "markets_df = markets_df[start:end]\n",
    "ba_df = Coinmetrics.pullBidAsk(BASE_URL, BASE_PARAMS, STUDY_START, STUDY_END, markets_df)\n",
    "ba_df.to_pickle('temp_ba_8.pkl')\n",
    "del ba_df\n",
    "gc.collect()"
   ]
  },
  {
   "cell_type": "code",
   "execution_count": null,
   "metadata": {},
   "outputs": [],
   "source": [
    "\n",
    "time.sleep(60*5)"
   ]
  },
  {
   "cell_type": "code",
   "execution_count": null,
   "metadata": {},
   "outputs": [],
   "source": [
    "# TODO 9\n",
    "markets_df = master_markets_df.copy()\n",
    "start = int(8*markets_df.shape[0]/10)\n",
    "end   = int(9*markets_df.shape[0]/10)\n",
    "markets_df = markets_df[start:end]\n",
    "ba_df = Coinmetrics.pullBidAsk(BASE_URL, BASE_PARAMS, STUDY_START, STUDY_END, markets_df)\n",
    "ba_df.to_pickle('temp_ba_9.pkl')\n",
    "del ba_df\n",
    "gc.collect()"
   ]
  },
  {
   "cell_type": "code",
   "execution_count": null,
   "metadata": {},
   "outputs": [],
   "source": [
    "\n",
    "time.sleep(60*5)"
   ]
  },
  {
   "cell_type": "code",
   "execution_count": null,
   "metadata": {},
   "outputs": [],
   "source": [
    "# TODO 10\n",
    "markets_df = master_markets_df.copy()\n",
    "start = int(9*markets_df.shape[0]/10)\n",
    "markets_df = markets_df[start:]\n",
    "ba_df = Coinmetrics.pullBidAsk(BASE_URL, BASE_PARAMS, STUDY_START, STUDY_END, markets_df)\n",
    "ba_df.to_pickle('temp_ba_10.pkl')\n",
    "del ba_df\n",
    "gc.collect()"
   ]
  },
  {
   "cell_type": "code",
   "execution_count": null,
   "metadata": {},
   "outputs": [],
   "source": [
    "# TODO CHECK THAT I GOT ALL MARKETS?"
   ]
  },
  {
   "cell_type": "code",
   "execution_count": 47,
   "metadata": {},
   "outputs": [
    {
     "data": {
      "text/plain": [
       "478"
      ]
     },
     "execution_count": 47,
     "metadata": {},
     "output_type": "execute_result"
    }
   ],
   "source": [
    "# TODO IMPORT ALL BELOW DF'S FROM TEMP IN CODE FOLDER\n",
    "ohlcv_df = pd.read_pickle('temp_ohlcv.pkl')\n",
    "markets_df = pd.read_pickle('temp_markets.pkl')\n",
    "usd_df =  pd.read_pickle('temp_usd.pkl')\n",
    "panel_df = pd.read_pickle('temp_panel.pkl')\n",
    "ba_df1 = pd.read_pickle('temp_ba_1.pkl')\n",
    "ba_df2 = pd.read_pickle('temp_ba_2.pkl')\n",
    "ba_df3 = pd.read_pickle('temp_ba_3.pkl')\n",
    "ba_df4 = pd.read_pickle('temp_ba_4.pkl')\n",
    "ba_df5 = pd.read_pickle('temp_ba_5.pkl')\n",
    "ba_df6 = pd.read_pickle('temp_ba_6.pkl')\n",
    "ba_df7 = pd.read_pickle('temp_ba_7.pkl')\n",
    "ba_df8 = pd.read_pickle('temp_ba_8.pkl')\n",
    "ba_df9 = pd.read_pickle('temp_ba_9.pkl')\n",
    "ba_df10 = pd.read_pickle('temp_ba_10.pkl')\n",
    "ba_df = pd.concat([ba_df1, ba_df2, ba_df3, ba_df4,\n",
    "                ba_df5, ba_df6, ba_df7, ba_df8, ba_df9, ba_df10])\n",
    "\n",
    "del ba_df1\n",
    "del ba_df2\n",
    "del ba_df3\n",
    "del ba_df4\n",
    "del ba_df5\n",
    "del ba_df6\n",
    "del ba_df7\n",
    "del ba_df8\n",
    "del ba_df9\n",
    "del ba_df10\n",
    "import gc\n",
    "gc.collect()"
   ]
  },
  {
   "cell_type": "code",
   "execution_count": 57,
   "metadata": {},
   "outputs": [],
   "source": [
    "# form the panel\n",
    "prices_df = Coinmetrics.cleanMarketPanels(ohlcv_df, TARGET_FREQ, markets_df, usd_df, ba_df)\n",
    "master_panel_df = panel_df.copy()\n",
    "panel_df = panel_df.merge(prices_df, on=['date', 'asset'], how='outer', validate='one_to_one')\n",
    "panel_df = panel_df.sort_values(by=['date', 'asset'], ignore_index=True)\n",
    "panel_df.to_pickle(PANEL_OUT_FP)"
   ]
  }
 ],
 "metadata": {
  "kernelspec": {
   "display_name": "tf",
   "language": "python",
   "name": "python3"
  },
  "language_info": {
   "codemirror_mode": {
    "name": "ipython",
    "version": 3
   },
   "file_extension": ".py",
   "mimetype": "text/x-python",
   "name": "python",
   "nbconvert_exporter": "python",
   "pygments_lexer": "ipython3",
   "version": "3.10.9"
  },
  "orig_nbformat": 4,
  "vscode": {
   "interpreter": {
    "hash": "e428bc405edc59f3352e9792cab27c5e28560f7efb4b47308a6c6ea38cd15df2"
   }
  }
 },
 "nbformat": 4,
 "nbformat_minor": 2
}
