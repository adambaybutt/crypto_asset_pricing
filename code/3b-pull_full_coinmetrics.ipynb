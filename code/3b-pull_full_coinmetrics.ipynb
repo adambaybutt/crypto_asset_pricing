{
 "cells": [
  {
   "cell_type": "code",
   "execution_count": null,
   "metadata": {},
   "outputs": [],
   "source": [
    "# TODO reuse code from first notebook\n",
    "# TODO IMPORT CW FROM INCLUSION CRIT WORK\n",
    "# TODO PULL OHLCV FOR ALL MARKETS AGAIN BUT DO IT AT HOURLY FREQ SO SAME AS BEFORE\n",
    "# TODO PUlL BEST BID AND ASK FOR ALL THOSE MARKETS AT HOURLY FREQ \n",
    "# TODO PULL ALL METRICS FOR ASSETS IN MY UNIVERSE AT HOURLY FREQ OR IF NOT THEN DAILY FREQ\n",
    "# -including ref rate\n",
    "# TODO FOR TARGET EXCHANGES AS WELL AS A FEW OTHER MAJORS pull all the available exchange metrics for my study period\n",
    "# -try to get inflows and outflows?\n",
    "# -pull open interest in futures? maybe as macro variable but lets see if i can get for a bunch of assets\n",
    "# TODO: pull defi balance sheets\n",
    "# TODO pull asset metadate to get pow, pos, creation date, and maybe anything else tha tis useful\n",
    "# TODO: taxonomy?"
   ]
  }
 ],
 "metadata": {
  "kernelspec": {
   "display_name": "tf",
   "language": "python",
   "name": "python3"
  },
  "language_info": {
   "name": "python",
   "version": "3.9.12 (main, Jun  1 2022, 11:38:51) \n[GCC 7.5.0]"
  },
  "orig_nbformat": 4,
  "vscode": {
   "interpreter": {
    "hash": "e428bc405edc59f3352e9792cab27c5e28560f7efb4b47308a6c6ea38cd15df2"
   }
  }
 },
 "nbformat": 4,
 "nbformat_minor": 2
}
