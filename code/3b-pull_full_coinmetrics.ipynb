{
 "cells": [
  {
   "cell_type": "code",
   "execution_count": null,
   "metadata": {},
   "outputs": [],
   "source": []
  },
  {
   "cell_type": "code",
   "execution_count": null,
   "metadata": {},
   "outputs": [],
   "source": [
    "\n",
    "\n",
    "\n",
    "\n",
    "# TODO pull in the asset universe from inclusion crit\n",
    "# TODO see if i want the asset info on the assets for anything useful; otherwise ignore\n",
    "# -pull asset metadate to get pow, pos, creation date, and maybe anything else tha tis useful\n",
    "# TODO see if anything useful about exchanges; maybe get total volume if they have somewhere\n",
    "# -remove the function from the OG script?\n",
    "\n",
    "# TODO pull over needed functions as a copy\n",
    "\n",
    "# TODO pull all the markets with the pullMarketInfo function; adjust to work for both freq; specificied assets as well\n",
    "# TODO pull USDT and USDC exchange rates; adjust to work for both freq\n",
    "# TODO pull market data function but need to adjust to work either for daily level or hourly level;  specificied assets as well\n",
    "# -pull all markets in those three stables for all my assets to get prices, volume, and trades at HOURLY freq\n",
    "# --so check first if the market offers hourly freq?\n",
    "# TODO pull all available asset metrics at given freq for assets in universe\n",
    "# -figure out all possible metrics to cut out ones that i am not interested in\n",
    "# TODO PUlL BEST BID AND ASK FOR ALL THOSE MARKETS AT HOURLY FREQ \n",
    "\n",
    "# TODO move functions to the helper function call\n",
    "\n",
    "# TODO adjust the OG script to see if they work for it too\n",
    "\n",
    "\n",
    "# TODO FOR TARGET EXCHANGES AS WELL AS A FEW OTHER MAJORS pull all the available exchange metrics for my study period\n",
    "# -try to get inflows and outflows?\n",
    "# -pull open interest in futures? maybe as macro variable but lets see if i can get for a bunch of assets\n",
    "# TODO: pull defi balance sheets\n",
    "# TODO: see if i am missing anything as this is really great op for data\n",
    "# TODO: taxonomy?\n",
    "\n",
    "\n",
    "\n"
   ]
  }
 ],
 "metadata": {
  "kernelspec": {
   "display_name": "tf",
   "language": "python",
   "name": "python3"
  },
  "language_info": {
   "name": "python",
   "version": "3.9.12 (main, Jun  1 2022, 11:38:51) \n[GCC 7.5.0]"
  },
  "orig_nbformat": 4,
  "vscode": {
   "interpreter": {
    "hash": "e428bc405edc59f3352e9792cab27c5e28560f7efb4b47308a6c6ea38cd15df2"
   }
  }
 },
 "nbformat": 4,
 "nbformat_minor": 2
}
