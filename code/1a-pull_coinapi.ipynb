{
 "cells": [
  {
   "cell_type": "code",
   "execution_count": 3,
   "id": "f2438263",
   "metadata": {},
   "outputs": [],
   "source": [
    "import pandas as pd\n",
    "import numpy as np\n",
    "from helper_functions import Helper\n",
    "from helper_functions import CoinAPI\n",
    "import requests\n",
    "from typing import List, Dict"
   ]
  },
  {
   "cell_type": "code",
   "execution_count": 4,
   "id": "c85d7045",
   "metadata": {},
   "outputs": [],
   "source": [
    "def pullAssetInfo(base_url: str, base_headers: Dict[str, str]) -> pd.DataFrame:\n",
    "    \"\"\"\n",
    "    Returns a DataFrame containing information about cryptocurrency assets.\n",
    "    \n",
    "    Args:\n",
    "        base_url: A string representing the base URL of the CoinAPI service.\n",
    "        base_headers: A dictionary representing the headers to be sent with the API request.\n",
    "\n",
    "    Returns:\n",
    "        A Pandas DataFrame containing information about cryptocurrency assets.\n",
    "    \"\"\"\n",
    "    # Build target URL\n",
    "    target_url = 'assets'\n",
    "    url        = f\"{base_url}{target_url}\"\n",
    "    headers    = base_headers.copy()\n",
    "\n",
    "    # Call API and convert to DataFrame\n",
    "    response_json = Helper.makeApiCall(url, headers=headers)\n",
    "    df = pd.DataFrame(response_json)\n",
    "\n",
    "    # Convert date columns to datetime\n",
    "    df['data_start'] = pd.to_datetime(df['data_start'])\n",
    "    df['data_end'] = pd.to_datetime(df['data_end'])\n",
    "\n",
    "    # Calculate duration in days\n",
    "    df['duration_days'] = (df['data_end'] - df['data_start']).dt.days\n",
    "\n",
    "    # Subset to cryptocurrency assets\n",
    "    df = df[df['type_is_crypto'] == 1]\n",
    "\n",
    "    # Subset to assets with trading data\n",
    "    df = df[~df['data_start'].isnull() & ~df['data_end'].isnull()]\n",
    "\n",
    "    # Subset to assets with at least four months of history\n",
    "    df = df[df['duration_days'] > 120]\n",
    "\n",
    "    # Subset to assets with data start on or before 2022-09-01\n",
    "    df = df[df['data_start'] <= '2022-09-01']\n",
    "\n",
    "    return df"
   ]
  },
  {
   "cell_type": "code",
   "execution_count": null,
   "id": "9f0c7c8f",
   "metadata": {},
   "outputs": [],
   "source": [
    "if __name__ == \"__main__\":\n",
    "    # import api key\n",
    "    API_KEY_FP = '../../admin/coinapi.txt'\n",
    "    with open(API_KEY_FP) as f:\n",
    "        API_KEY = f.readlines()[0].strip()\n",
    "\n",
    "    # set args\n",
    "    PANEL_FP = '../data/raw/coinapi_panel.pkl'\n",
    "    BASE_URL   = 'https://rest.coinapi.io/v1/'\n",
    "    BASE_HEADERS = {'X-CoinAPI-Key': API_KEY}\n",
    "    LEGIT_US_EXCHANGES = ['BINANCEUS', 'BITSTAMP', 'COINBASE', 'CRYPTOCOM', 'FTXUS', \n",
    "        'GEMINI', 'KRAKEN', 'KUCOIN']\n",
    "    TARGET_FREQ = '1DAY'\n",
    "    TIME_START = '2016-07-01'\n",
    "    TIME_END = '2023-01-02'\n",
    "\n",
    "    # confirm api is working\n",
    "    url = 'https://www.coinapi.io/api/subscriptions/usage/rest/history'\n",
    "    response = requests.get(url, headers=BASE_HEADERS)\n",
    "    print(response.json())    \n",
    "\n",
    "    # pull initial asset universe\n",
    "    asset_info_df = pullAssetInfo(BASE_URL, BASE_HEADERS)\n",
    "\n",
    "    # pull relevant markets\n",
    "    symbols_df = CoinAPI.pullMarketInfo(BASE_URL, BASE_HEADERS, LEGIT_US_EXCHANGES)\n",
    "\n",
    "    # pull usdt and usdc exchange rates\n",
    "    prices_df = CoinAPI.pullExchangeRates(BASE_URL, BASE_HEADERS, ['USDC', 'USDT'],\n",
    "                    TARGET_FREQ, TIME_START, TIME_END)\n",
    "    macro_df, prices_df = CoinAPI.seperateMacroAndAssetRefPrices(prices_df)\n",
    "\n",
    "    # pull market prices and volumes\n",
    "    assert symbols_df.symbol_id.is_unique\n",
    "    markets_list = symbols_df.symbol_id.values[:10]\n",
    "    raw_panel_df = CoinAPI.pullMarketData(BASE_URL, BASE_HEADERS, markets_list, \n",
    "                                    TARGET_FREQ, TIME_START, TIME_END)\n",
    "    \n",
    "    # clean the panel\n",
    "    panel_df = CoinAPI.cleanPanel(raw_panel_df, None, macro_df, TARGET_FREQ)\n",
    "    panel_df.to_pickle(PANEL_FP)"
   ]
  }
 ],
 "metadata": {
  "kernelspec": {
   "display_name": "tf",
   "language": "python",
   "name": "python3"
  },
  "language_info": {
   "codemirror_mode": {
    "name": "ipython",
    "version": 3
   },
   "file_extension": ".py",
   "mimetype": "text/x-python",
   "name": "python",
   "nbconvert_exporter": "python",
   "pygments_lexer": "ipython3",
   "version": "3.10.9"
  },
  "vscode": {
   "interpreter": {
    "hash": "e428bc405edc59f3352e9792cab27c5e28560f7efb4b47308a6c6ea38cd15df2"
   }
  }
 },
 "nbformat": 4,
 "nbformat_minor": 5
}
