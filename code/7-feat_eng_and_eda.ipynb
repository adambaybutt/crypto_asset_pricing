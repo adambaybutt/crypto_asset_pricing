{
 "cells": [
  {
   "cell_type": "code",
   "execution_count": null,
   "metadata": {},
   "outputs": [],
   "source": [
    "# TODO feat eng for macro data:\n",
    "# -form snp return\n",
    "# -form snp momentum\n",
    "# -form snp volatility\n",
    "# -form squared market return\n",
    "# -form all chen transformations too\n",
    "\n",
    "# TODO USE OLD MESSY SCRIPT"
   ]
  },
  {
   "cell_type": "code",
   "execution_count": null,
   "metadata": {},
   "outputs": [],
   "source": [
    "# TODO SELECT BEST MCAP MEASURES FROM CM WORK TO NOT HAVE THEM ALL\n",
    "# TODO REDUCE DOWN REPEATATIVE CM FEATURES IN MACRO AND PANEL"
   ]
  }
 ],
 "metadata": {
  "language_info": {
   "name": "python"
  },
  "orig_nbformat": 4
 },
 "nbformat": 4,
 "nbformat_minor": 2
}
