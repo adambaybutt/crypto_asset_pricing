{
 "cells": [
  {
   "cell_type": "code",
   "execution_count": null,
   "id": "160c0b6d",
   "metadata": {},
   "outputs": [],
   "source": [
    "# MOVE THESE NOTES TO CLEANING\n",
    "\n",
    "# manually look through it to confirm they are legit tokens\n",
    "# or maybe give this task to jacob\n",
    "# or maybe schedule a time to do this with jacob so we 2x the speed\n",
    "\n",
    "# Lets look to see if the 0.01% mcap rule is good for the entire time period\n",
    "\n",
    "# Jan 1 2015 - $5B - $500k\n",
    "# Jan 1 2016 - $7B - $700k\n",
    "# Jan 1 2017 - $18B - $1.8M\n",
    "# Jan 1 2018 - $600B - $60M\n",
    "# Apr 1 2018 - $300B - $30M\n",
    "# Jul 1 2018 - $250B - $25M\n",
    "# Jan 1 2019 - $125B - $12M\n",
    "# Apr 1 2019 - $145B - $14M\n",
    "# Jul 1 2019 - $330B - $33M\n",
    "# Oct 1 2019 - $220B - $22M\n",
    "# Jan 1 2020 - $200B - $20M\n",
    "# Apr 1 2020 - $175B - $17M\n",
    "# Jul 1 2020 - $260B - $26M\n",
    "# Oct 1 2020 - $340B - $34M\n",
    "# Jan 1 2021 - $770B - $77M\n",
    "# Apr 1 2021 - $1.9T - $190M\n",
    "# Jul 1 2021 - $1.4T - $140M\n",
    "# Oct 1 2021 - $2T - $200M"
   ]
  }
 ],
 "metadata": {
  "kernelspec": {
   "display_name": "tf",
   "language": "python",
   "name": "python3"
  },
  "language_info": {
   "codemirror_mode": {
    "name": "ipython",
    "version": 3
   },
   "file_extension": ".py",
   "mimetype": "text/x-python",
   "name": "python",
   "nbconvert_exporter": "python",
   "pygments_lexer": "ipython3",
   "version": "3.9.12 (main, Jun  1 2022, 11:38:51) \n[GCC 7.5.0]"
  },
  "vscode": {
   "interpreter": {
    "hash": "e428bc405edc59f3352e9792cab27c5e28560f7efb4b47308a6c6ea38cd15df2"
   }
  }
 },
 "nbformat": 4,
 "nbformat_minor": 5
}
