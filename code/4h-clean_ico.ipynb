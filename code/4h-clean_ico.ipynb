{
 "cells": [
  {
   "cell_type": "code",
   "execution_count": 1,
   "metadata": {},
   "outputs": [],
   "source": [
    "import pandas as pd\n",
    "import pickle\n",
    "from helper_functions import Helper\n",
    "from typing import List"
   ]
  },
  {
   "cell_type": "code",
   "execution_count": 2,
   "metadata": {},
   "outputs": [],
   "source": [
    "def formICODfs(df: pd.DataFrame, asset_universe_cm: List[str]) -> tuple:\n",
    "    # clean up ico data before creating asset-level and macro-level dfs\n",
    "    df['ico_momtaz'] = 1\n",
    "    df['asset_cm'] = df.token.str.lower()\n",
    "    df.loc[df.asset_cm=='grt', 'ico_start'] = '2020-10-21'\n",
    "    df.loc[df.asset_cm=='atlas', 'ico_start'] = '2021-08-26'\n",
    "    df.loc[df.asset_cm=='qnt', 'ico_start'] = '2018-06-02'\n",
    "    df.loc[df.asset_cm=='iotx', 'ico_start'] = '2018-02-15'\n",
    "    df.loc[df.asset_cm=='orca', 'ico_start'] = '2018-04-16'\n",
    "    df.loc[df.asset_cm=='gtc', 'ico_start'] = '2021-05-25'\n",
    "    df.loc[df.asset_cm=='ht', 'ico_start'] = '2018-01-24'\n",
    "    df.loc[df.asset_cm=='mpl', 'ico_start'] = '2021-04-27'\n",
    "    df.loc[df.asset_cm=='stx', 'ico_start'] = '2017-11-30'\n",
    "    df = df[df.ico_start.notnull()].copy()\n",
    "    df['ico_date_momtaz'] = pd.to_datetime(df['ico_start'], utc=True).dt.tz_localize(None)\n",
    "    df = df.drop('ico_start', axis=1)\n",
    "    df = df.sort_values(by=['asset_cm', 'ico_date_momtaz'])\n",
    "    df = df.drop_duplicates(subset='asset_cm')\n",
    "\n",
    "    # form asset level data\n",
    "    ico_df = df.merge(pd.DataFrame(data={'asset_cm': asset_universe_cm}),\n",
    "        on='asset_cm', how='inner', validate='many_to_one')\n",
    "    ico_df = ico_df[['asset_cm', 'ico_date_momtaz', 'price_usd', 'ico_momtaz']]\n",
    "\n",
    "    # clean up asset level price column\n",
    "    ico_df.loc[ico_df.asset_cm=='ht', 'price_usd'] = '0.64'\n",
    "    ico_df.loc[ico_df.asset_cm=='stx', 'price_usd'] = '1.103'\n",
    "    ico_df.loc[ico_df.price_usd.str.contains('ETH') \n",
    "        & ico_df.price_usd.notnull(), 'price_usd'] = 'NaN'\n",
    "    ico_df.loc[ico_df.price_usd.str.contains('STG') \n",
    "        & ico_df.price_usd.notnull(), 'price_usd'] = 'NaN'\n",
    "    ico_df['ico_price_momtaz'] = ico_df.price_usd.astype(float)\n",
    "    ico_df = ico_df.drop('price_usd', axis=1)\n",
    "    ico_df.loc[ico_df.asset_cm=='chz', 'ico_price_momtaz'] = 0.03\n",
    "    ico_df.loc[ico_df.asset_cm=='kai', 'ico_price_momtaz'] = 0.05\n",
    "    ico_df.loc[ico_df.asset_cm=='lsk', 'ico_price_momtaz'] = 0.08\n",
    "    ico_df.loc[ico_df.asset_cm=='mpl', 'ico_price_momtaz'] = 0.25\n",
    "    ico_df.loc[ico_df.asset_cm=='nmr', 'ico_price_momtaz'] = 0.01\n",
    "    ico_df.loc[ico_df.asset_cm=='stg', 'ico_price_momtaz'] = 0.00075\n",
    "    ico_df.loc[ico_df.asset_cm=='ocean', 'ico_price_momtaz'] = 0.12\n",
    "    ico_df.loc[ico_df.asset_cm=='rndr', 'ico_price_momtaz'] = 0.06\n",
    "    ico_df.loc[ico_df.asset_cm=='uma', 'ico_price_momtaz'] = 0.26\n",
    "\n",
    "    # final clean of ico asset level data\n",
    "    ico_df = ico_df[['asset_cm', 'ico_date_momtaz', 'ico_price_momtaz', 'ico_momtaz']]\n",
    "    ico_df = ico_df.sort_values(by='asset_cm', ignore_index=True)\n",
    "\n",
    "    # form the macro data\n",
    "    macro_df = df[['asset_cm', 'ico_date_momtaz', 'ico_momtaz']]\n",
    "    macro_df = macro_df.groupby('ico_date_momtaz')[['ico_momtaz']].sum()\n",
    "    macro_df = macro_df[macro_df.index>='2016-07-01']\n",
    "\n",
    "    start_date_str = '2016-07-01'\n",
    "    start_date_dt  = pd.to_datetime(start_date_str)\n",
    "    end_date_str   = '2022-12-31'\n",
    "    end_date_dt    = pd.to_datetime(end_date_str)\n",
    "    full_date_range = pd.date_range(start=start_date_dt, end=end_date_dt, freq='1D')\n",
    "\n",
    "    macro_df = macro_df.reindex(full_date_range)\n",
    "\n",
    "    macro_df = macro_df.fillna(0)\n",
    "    macro_df = macro_df.reset_index()\n",
    "    macro_df = macro_df.rename(columns={'index': 'date', 'ico_momtaz': 'ico_sum_momtaz'})\n",
    "\n",
    "    return ico_df, macro_df\n"
   ]
  },
  {
   "cell_type": "code",
   "execution_count": 3,
   "metadata": {},
   "outputs": [],
   "source": [
    "if __name__ == \"__main__\":\n",
    "    # set args\n",
    "    ICO_IN_FP   = '../data/raw/momtaz.csv'\n",
    "    ASSET_IN_FP = '../data/clean/asset_universe_dict.pickle'\n",
    "    ASSET_ICO_OUT_FP = '../data/derived/momtaz_ico_asset.pkl' \n",
    "    MACRO_ICO_OUT_FP = '../data/derived/momtaz_ico_macro.pkl' \n",
    "    \n",
    "    # import\n",
    "    df = pd.read_csv(ICO_IN_FP, sep=';')\n",
    "    with open(ASSET_IN_FP, \"rb\") as f:\n",
    "        asset_universe_dict = pickle.load(f)\n",
    "    asset_universe_cm = Helper.findUniqueAssets(asset_universe_dict)\n",
    "    \n",
    "    # clean\n",
    "    ico_df, macro_df = formICODfs(df, asset_universe_cm)\n",
    "\n",
    "    # output\n",
    "    ico_df.to_pickle(ASSET_ICO_OUT_FP)\n",
    "    macro_df.to_pickle(MACRO_ICO_OUT_FP)"
   ]
  }
 ],
 "metadata": {
  "kernelspec": {
   "display_name": "tf",
   "language": "python",
   "name": "python3"
  },
  "language_info": {
   "codemirror_mode": {
    "name": "ipython",
    "version": 3
   },
   "file_extension": ".py",
   "mimetype": "text/x-python",
   "name": "python",
   "nbconvert_exporter": "python",
   "pygments_lexer": "ipython3",
   "version": "3.10.9"
  },
  "orig_nbformat": 4,
  "vscode": {
   "interpreter": {
    "hash": "e428bc405edc59f3352e9792cab27c5e28560f7efb4b47308a6c6ea38cd15df2"
   }
  }
 },
 "nbformat": 4,
 "nbformat_minor": 2
}
